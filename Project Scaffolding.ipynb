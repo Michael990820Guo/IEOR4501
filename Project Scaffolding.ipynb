{
 "cells": [
  {
   "cell_type": "markdown",
   "id": "32f8ca24",
   "metadata": {},
   "source": [
    "# Understanding Hired Rides in NYC\n",
    "\n",
    "_[Project prompt](https://docs.google.com/document/d/1VERPjEZcC1XSs4-02aM-DbkNr_yaJVbFjLJxaYQswqA/edit#)_\n",
    "\n",
    "_This scaffolding notebook may be used to help setup your final project. It's **totally optional** whether you make use of this or not._\n",
    "\n",
    "_If you do use this notebook, everything provided is optional as well - you may remove or add prose and code as you wish._\n",
    "\n",
    "_Anything in italics (prose) or comments (in code) is meant to provide you with guidance. **Remove the italic lines and provided comments** before submitting the project, if you choose to use this scaffolding. We don't need the guidance when grading._\n",
    "\n",
    "_**All code below should be consider \"pseudo-code\" - not functional by itself, and only a suggestion at the approach.**_"
   ]
  },
  {
   "cell_type": "markdown",
   "id": "25627e8d",
   "metadata": {},
   "source": [
    "## Requirements\n",
    "\n",
    "_A checklist of requirements to keep you on track. Remove this whole cell before submitting the project._\n",
    "\n",
    "* Code clarity: make sure the code conforms to:\n",
    "    * [ ] [PEP 8](https://peps.python.org/pep-0008/) - You might find [this resource](https://realpython.com/python-pep8/) helpful as well as [this](https://github.com/dnanhkhoa/nb_black) or [this](https://jupyterlab-code-formatter.readthedocs.io/en/latest/) tool\n",
    "    * [ ] [PEP 257](https://peps.python.org/pep-0257/)\n",
    "    * [ ] Break each task down into logical functions\n",
    "* The following files are submitted for the project (see the project's GDoc for more details):\n",
    "    * [ ] `README.md`\n",
    "    * [ ] `requirements.txt`\n",
    "    * [ ] `.gitignore`\n",
    "    * [ ] `schema.sql`\n",
    "    * [ ] 6 query files (using the `.sql` extension), appropriately named for the purpose of the query\n",
    "    * [x] Jupyter Notebook containing the project (this file!)\n",
    "* [x] You can edit this cell and add a `x` inside the `[ ]` like this task to denote a completed task"
   ]
  },
  {
   "cell_type": "markdown",
   "id": "2f75fd94",
   "metadata": {},
   "source": [
    "## Project Setup"
   ]
  },
  {
   "cell_type": "code",
   "execution_count": 121,
   "id": "66dcde05",
   "metadata": {},
   "outputs": [],
   "source": [
    "# all import statements needed for the project, for example:\n",
    "import os\n",
    "import re\n",
    "import bs4\n",
    "import math\n",
    "import requests\n",
    "import matplotlib.pyplot as plt\n",
    "import pandas as pd\n",
    "import numpy as np\n",
    "import sqlalchemy as db\n",
    "import geopandas as gpd\n",
    "import keplergl"
   ]
  },
  {
   "cell_type": "code",
   "execution_count": 122,
   "id": "3f1242c4",
   "metadata": {},
   "outputs": [],
   "source": [
    "#any constants you might need, for example:\n",
    "\n",
    "TAXI_URL = \"https://www1.nyc.gov/site/tlc/about/tlc-trip-record-data.page\"\n",
    "# add other constants to refer to any local data, e.g. uber & weather\n",
    "UBER_CSV = \"uber_rides_sample.csv\"\n",
    "TAXI_ZONES = \"taxi_zones.zip\"\n",
    "WEATHER = \"./weather/\"\n",
    "NEW_YORK_BOX_COORDS = ((40.560445, -74.242330), (40.908524, -73.717047))\n",
    "\n",
    "DATABASE_URL = \"sqlite:///project.db\"\n",
    "DATABASE_SCHEMA_FILE = \"schema.sql\"\n",
    "QUERY_DIRECTORY = \"queries\""
   ]
  },
  {
   "cell_type": "markdown",
   "id": "26ad10ea",
   "metadata": {},
   "source": [
    "## Part 1: Data Preprocessing"
   ]
  },
  {
   "cell_type": "markdown",
   "id": "ecf38168",
   "metadata": {},
   "source": [
    "_A checklist of requirements to keep you on track. Remove this whole cell before submitting the project. The order of these tasks aren't necessarily the order in which they need to be done. It's okay to do them in an order that makes sense to you._\n",
    "\n",
    "* [ ] Define a function that calculates the distance between two coordinates in kilometers that **only uses the `math` module** from the standard library.\n",
    "* [ ] Taxi data:\n",
    "    * [ ] Use the `re` module, and the packages `requests`, BeautifulSoup (`bs4`), and (optionally) `pandas` to programmatically download the required CSV files & load into memory.\n",
    "    * You may need to do this one file at a time - download, clean, sample. You can cache the sampling by saving it as a CSV file (and thereby freeing up memory on your computer) before moving onto the next file. \n",
    "* [ ] Weather & Uber data:\n",
    "    * [ ] Download the data manually in the link provided in the project doc.\n",
    "* [ ] All data:\n",
    "    * [ ] Load the data using `pandas`\n",
    "    * [ ] Clean the data, including:\n",
    "        * Remove unnecessary columns\n",
    "        * Remove invalid data points (take a moment to consider what's invalid)\n",
    "        * Normalize column names\n",
    "        * (Taxi & Uber data) Remove trips that start and/or end outside the designated [coordinate box](http://bboxfinder.com/#40.560445,-74.242330,40.908524,-73.717047)\n",
    "    * [ ] (Taxi data) Sample the data so that you have roughly the same amount of data points over the given date range for both Taxi data and Uber data.\n",
    "* [ ] Weather data:\n",
    "    * [ ] Split into two `pandas` DataFrames: one for required hourly data, and one for the required daily daya.\n",
    "    * [ ] You may find that the weather data you need later on does not exist at the frequency needed (daily vs hourly). You may calculate/generate samples from one to populate the other. Just document what you’re doing so we can follow along. "
   ]
  },
  {
   "cell_type": "markdown",
   "id": "32074561",
   "metadata": {},
   "source": [
    "### Calculating distance\n",
    "From latitude and longitude to caluclate the distance. We refer to the formular from: https://en.wikipedia.org/wiki/Geographical_distance "
   ]
  },
  {
   "cell_type": "code",
   "execution_count": 123,
   "id": "4cbbe6cc",
   "metadata": {},
   "outputs": [],
   "source": [
    "def calculate_distance(from_coord: pd.core.frame.DataFrame, to_coord: pd.core.frame.DataFrame) -> pd.core.series.Series:\n",
    "    \"\"\"Caluclate the distance from latitude and longitude.\n",
    "\n",
    "    Keyword arguments:\n",
    "    from_coord -- A dataframe including 'pickup_latitude' and 'pickup_longitude'\n",
    "    to_coord -- A dataframe including 'dropoff_latitude' and 'dropoff_longitude'\n",
    "\n",
    "    Output:\n",
    "    A series of the distances (km).\n",
    "    \"\"\"\n",
    "\n",
    "    # convert different degrees into radians\n",
    "    pickup_larad = from_coord['pickup_latitude'].apply(math.radians)\n",
    "    pickup_lorad = from_coord['pickup_longitude'].apply(math.radians)\n",
    "    dropoff_larad = to_coord['dropoff_latitude'].apply(math.radians)\n",
    "    dropoff_lorad = to_coord['dropoff_longitude'].apply(math.radians)\n",
    "\n",
    "    # calculate the distance\n",
    "    R = 6371 \n",
    "    la_dif = pickup_larad - dropoff_larad\n",
    "    lo_dif = pickup_lorad - dropoff_lorad\n",
    "    a = ((la_dif / 2).apply(math.sin)) ** 2 + pickup_larad.apply(math.cos) * dropoff_larad.apply(math.cos) * ((lo_dif / 2).apply(math.sin) ** 2)\n",
    "    distance = 2 * R * a.apply(math.sqrt).apply(math.asin)\n",
    "    \n",
    "    return distance"
   ]
  },
  {
   "cell_type": "markdown",
   "id": "6b75b6aa",
   "metadata": {},
   "source": [
    "Add the distance information to the original dataframe."
   ]
  },
  {
   "cell_type": "code",
   "execution_count": 124,
   "id": "6d6abf52",
   "metadata": {},
   "outputs": [],
   "source": [
    "def add_distance_column(dataframe: pd.core.frame.DataFrame) -> pd.core.frame.DataFrame:\n",
    "    '''Add the distance information to the original dataframe.\n",
    "    \n",
    "    Keyword arguments:\n",
    "    df -- A dataframe with columns \"pickup_latitude\" , \"pickup_longitude\",  \"dropoff_latitude\" and \"dropoff_longitude\".\n",
    "\n",
    "    Output:\n",
    "    A dataframe with a new column \"distance\"\n",
    "    '''\n",
    "\n",
    "    from_pos = dataframe[['pickup_latitude', 'pickup_longitude']]\n",
    "    to_pos = dataframe[['dropoff_latitude', 'dropoff_longitude']]\n",
    "    dataframe['distance'] = calculate_distance(from_pos, to_pos)\n",
    "    \n",
    "    return dataframe"
   ]
  },
  {
   "cell_type": "markdown",
   "id": "93daa717",
   "metadata": {},
   "source": [
    "### Processing Taxi Data\n",
    "\n",
    "_**TODO:** Write some prose that tells the reader what you're about to do here._"
   ]
  },
  {
   "cell_type": "code",
   "execution_count": 127,
   "id": "cbd0d198",
   "metadata": {},
   "outputs": [],
   "source": [
    "def find_taxi_parquet_urls(taxi_url = TAXI_URL) -> list:\n",
    "    '''\n",
    "    Go get the URLs of parquet file for taxi data.\n",
    "    Returns A list of urls that point to the parquet files.\n",
    "    '''\n",
    "    response = requests.get(taxi_url)\n",
    "    html = response.content\n",
    "    taxisoup = bs4.BeautifulSoup(html, 'html.parser')\n",
    "    links = taxisoup.find_all(\"a\", href=True)\n",
    "\n",
    "    urllist = []\n",
    "    for link in links:\n",
    "        if re.search(r\"yellow_tripdata_2009|yellow_tripdata_201[01234]|yellow_tripdata_2015-0[1-6]\", link.get(\"href\")):\n",
    "            urllist.append(link.get(\"href\"))\n",
    "        # Regular expression to find the links that match the pattern 2009-01~2015-06\n",
    "    return urllist\n",
    "# myurl = find_taxi_parquet_urls()\n",
    "# print(myurl)\n"
   ]
  },
  {
   "cell_type": "code",
   "execution_count": 129,
   "id": "2f40130a",
   "metadata": {},
   "outputs": [],
   "source": [
    "def Download_data(localurl: str)-> pd.core.frame.DataFrame:    \n",
    "    '''\n",
    "    Download the data to local file path if there is non exist.\n",
    "    url -- a string which is the url of the parquet file.\n",
    "    return a dataframe that can we can further work on. \n",
    "    '''\n",
    "    # Get the file name with given url\n",
    "    filename = localurl.split('/')[-1]\n",
    "    # download the file if it doesn't exist\n",
    "    file = requests.get(localurl)\n",
    "    with open(filename , \"wb\") as f:\n",
    "        f.write(file.content)\n",
    "    # load the data with read_parquet\n",
    "    df = pd.read_parquet(filename)\n",
    "    #df.to_csv(filename+\".csv\")\n",
    "    return df\n",
    "# Download_data('https://d37ci6vzurychx.cloudfront.net/trip-data/yellow_tripdata_2015-01.parquet')\n",
    "\n",
    "def get_taxi_zone_df() -> gpd.geodataframe.GeoDataFrame:\n",
    "    \"\"\"\n",
    "    Get a GeoDataFrame\n",
    "    \"\"\"\n",
    "    taxi_zone_df = gpd.read_file(filename='taxi_zones.zip', engine='fiona')\n",
    "    # taxi_zone_df = gpd.read_file(TAXI_ZONES)\n",
    "    taxi_zone_df = taxi_zone_df.to_crs(4326)\n",
    "    taxi_zone_df['longitude'] = taxi_zone_df.centroid.x\n",
    "    taxi_zone_df['latitude'] = taxi_zone_df.centroid.y\n",
    "    taxi_zone_df.drop_duplicates('LocationID', inplace = True)\n",
    "    taxi_zone_df.set_index('LocationID', inplace = True)\n",
    "    return taxi_zone_df\n",
    "# mypandas = get_taxi_zone_df()\n",
    "# print(type((mypandas)))\n",
    "\n",
    "\n",
    "def Clean_month_taxi_data(url: str, GEOmetry: gpd.geodataframe.GeoDataFrame) -> pd.core.frame.DataFrame:\n",
    "    '''\n",
    "    Download the data to local and Clean the taxi data for a given month.\n",
    "    url -- a string which is the url of the parquet file.\n",
    "    Returns A pandas dataframe\n",
    "    '''\n",
    "    # Call download_data fucntion to download data from url and return csv\n",
    "    df = Download_data(localurl = url)\n",
    "    print(\"cleaning data from\", url)\n",
    "    # looking up the latitude and longitude for some months where only location IDs are given for pickups and dropoffs\n",
    "    if 'PULocationID' in df.columns:\n",
    "        df['pickup_latitude'] = df['PULocationID'].map(GEOmetry['latitude'])\n",
    "        df['pickup_longitude'] = df['PULocationID'].map(GEOmetry['longitude'])\n",
    "        df['dropoff_latitude'] = df['DOLocationID'].map(GEOmetry['latitude'])\n",
    "        df['dropoff_longitude'] = df['DOLocationID'].map(GEOmetry['longitude'])\n",
    "    # Get rid of the NA's, which indicate a poor quality of the data.\n",
    "    df.dropna()\n",
    "    # normalizing column names\n",
    "    df.rename(columns={'tpep_pickup_datetime':'pickup_datetime','\\\n",
    "        Trip_Pickup_DateTime':'pickup_datetime',\\\n",
    "        'Trip_Dropoff_DateTime':'dropoff_datetime',\\\n",
    "        'tpep_dropoff_datetime':'dropoff_datetime',\\\n",
    "        'Start_Lon':'pickup_longitude', \\\n",
    "        'Start_Lat':'pickup_latitude', \\\n",
    "        'End_Lon':'dropoff_longitude', \\\n",
    "        'End_Lat':'dropoff_latitude',\n",
    "        'Tip_Amt':'tip_amount'}, inplace=True)\n",
    "    # normalizing and using appropriate column types for the respective data\n",
    "    df['pickup_datetime'] = pd.to_datetime(df['pickup_datetime'])\n",
    "    df['dropoff_datetime'] = pd.to_datetime(df['dropoff_datetime'])\n",
    "\n",
    "    # removing trips that start and/or end outside of the NEW_YORK_BOX_COORDS\n",
    "    df = df[(df['pickup_latitude'] >= NEW_YORK_BOX_COORDS[0][0]) & (df['pickup_latitude'] <= NEW_YORK_BOX_COORDS[1][0])]\n",
    "    df = df[(df['pickup_longitude'] >= NEW_YORK_BOX_COORDS[0][1]) & (df['pickup_longitude'] <= NEW_YORK_BOX_COORDS[1][1])]\n",
    "    df = df[(df['dropoff_latitude'] >= NEW_YORK_BOX_COORDS[0][0]) & (df['dropoff_latitude'] <= NEW_YORK_BOX_COORDS[1][0])]\n",
    "    df = df[(df['dropoff_longitude'] >= NEW_YORK_BOX_COORDS[0][1]) & (df['dropoff_longitude'] <= NEW_YORK_BOX_COORDS[1][1])]\n",
    "\n",
    "\n",
    "    # leaving only needed data columns, by selecting what's needed\n",
    "    df = df[['pickup_datetime','pickup_longitude','pickup_latitude','dropoff_datetime','dropoff_longitude','dropoff_latitude','tip_amount']]\n",
    "\n",
    "    # sample the data to make it roughly equal to the size of the Uber dataset\n",
    "    # ~200000 is the number of rows in the Uber dataset\n",
    "    # so every month we sample 200000 / 78 ~ 2500 rows\n",
    "    df = df.sample(n=2500)\n",
    "    return df\n"
   ]
  },
  {
   "cell_type": "code",
   "execution_count": 130,
   "id": "35c9c0cd",
   "metadata": {},
   "outputs": [],
   "source": [
    "def get_and_clean_taxi_data():\n",
    "    all_taxi_dataframes = []\n",
    "    all_urls = find_taxi_parquet_urls(TAXI_URL)\n",
    "    print(all_urls[0])\n",
    "    GEOmetry = get_taxi_zone_df()\n",
    "    count = 1\n",
    "    for one_url in all_urls:\n",
    "    # for one_url in [all_urls[0], all_urls[1]]:\n",
    "        print(one_url)\n",
    "        print(\"processing dataset\" + str(count))\n",
    "        dataframe = Clean_month_taxi_data(one_url, GEOmetry)\n",
    "        add_distance_column(dataframe)\n",
    "        all_taxi_dataframes.append(dataframe)\n",
    "    taxi_data = pd.concat(all_taxi_dataframes)\n",
    "    return taxi_data"
   ]
  },
  {
   "cell_type": "markdown",
   "id": "094b4d6d",
   "metadata": {},
   "source": [
    "### Processing Uber Data\n",
    "\n",
    "_**TODO:** Write some prose that tells the reader what you're about to do here._"
   ]
  },
  {
   "cell_type": "code",
   "execution_count": 131,
   "id": "7c58e3a2",
   "metadata": {},
   "outputs": [],
   "source": [
    "def clean_uber_data(csv_file):\n",
    "    df = pd.read_csv(csv_file)\n",
    "    df = df.drop(columns=[\"Unnamed: 0\",\"key\"])\n",
    "    df = df.dropna()\n",
    "    \n",
    "    #pick up in bounding box \n",
    "    df = df[(df['pickup_longitude']> NEW_YORK_BOX_COORDS[0][1]) &  (df['pickup_longitude']<NEW_YORK_BOX_COORDS[1][1])]\n",
    "    df = df[(df['pickup_latitude']> NEW_YORK_BOX_COORDS[0][0]) &  (df['pickup_latitude']<NEW_YORK_BOX_COORDS[1][0])]\n",
    "    #drop off in bounding box  \n",
    "    df = df[(df['dropoff_longitude']> NEW_YORK_BOX_COORDS[0][1]) &  (df['dropoff_longitude']<NEW_YORK_BOX_COORDS[1][1])]\n",
    "    df = df[(df['dropoff_latitude']> NEW_YORK_BOX_COORDS[0][0]) &  (df['dropoff_latitude']<NEW_YORK_BOX_COORDS[1][0])]\n",
    "    df['pickup_datetime'] = pd.to_datetime(df['pickup_datetime'])\n",
    "    df = df[['pickup_datetime','pickup_longitude','pickup_latitude','dropoff_longitude','dropoff_latitude']]\n",
    "    return df"
   ]
  },
  {
   "cell_type": "code",
   "execution_count": 132,
   "id": "f836f118",
   "metadata": {},
   "outputs": [],
   "source": [
    "def get_uber_data():\n",
    "    uber_dataframe = clean_uber_data(UBER_CSV)\n",
    "    add_distance_column(uber_dataframe)\n",
    "    return uber_dataframe"
   ]
  },
  {
   "cell_type": "markdown",
   "id": "45a15cbb",
   "metadata": {},
   "source": [
    "### Processing Weather Data\n",
    "\n",
    "Load and clean the hourly windspeed and precipitation data."
   ]
  },
  {
   "cell_type": "code",
   "execution_count": 133,
   "id": "76e864ab",
   "metadata": {},
   "outputs": [],
   "source": [
    "def clean_month_weather_data_hourly(csv_file: str) -> pd.core.frame.DataFrame:\n",
    "    '''Load the weather data and clean it hourly.\n",
    "    \n",
    "    Keyword arguments:\n",
    "    csv_file -- The name of the raw data csv file.\n",
    "\n",
    "    Output:\n",
    "    A dataframe of the cleaned hourly weather data.\n",
    "    '''\n",
    "\n",
    "    # we only need hourly windspeed and precipitation\n",
    "    df = pd.read_csv(csv_file, usecols=['DATE','HourlyWindSpeed','HourlyPrecipitation'])\n",
    "    \n",
    "    # process date type\n",
    "    df['DATE'] = pd.to_datetime(df['DATE'])\n",
    "\n",
    "    # deal with missing values\n",
    "    df.dropna(subset=['HourlyWindSpeed'], inplace=True)\n",
    "    df['HourlyPrecipitation'] = pd.to_numeric(df['HourlyPrecipitation'], errors='coerce')\n",
    "    df['HourlyPrecipitation'].fillna(0, inplace=True)\n",
    "\n",
    "    return df"
   ]
  },
  {
   "cell_type": "markdown",
   "id": "f104e81f",
   "metadata": {},
   "source": [
    "Load and clean the daily windspeed and precipitation data."
   ]
  },
  {
   "cell_type": "code",
   "execution_count": 134,
   "id": "0687581f",
   "metadata": {},
   "outputs": [],
   "source": [
    "def clean_month_weather_data_daily(csv_file: str) -> pd.core.frame.DataFrame:\n",
    "    '''Load the weather data and clean it daily.\n",
    "    \n",
    "    Keyword arguments:\n",
    "    csv_file -- The name of the raw data csv file.\n",
    "\n",
    "    Output:\n",
    "    A dataframe with the cleaned daily weather data.\n",
    "    '''\n",
    "\n",
    "    # we only need daily windspeed and precipitation\n",
    "    df = pd.read_csv(csv_file, usecols=['DATE','HourlyWindSpeed','HourlyPrecipitation'])\n",
    "\n",
    "    # deal with missing values\n",
    "    df.dropna(subset=['HourlyWindSpeed'], inplace=True)\n",
    "    df['HourlyPrecipitation'] = pd.to_numeric(df['HourlyPrecipitation'], errors='coerce')\n",
    "    df['HourlyPrecipitation'].fillna(0, inplace=True)\n",
    "\n",
    "    # group by day and calculate mean(HourlyWindSpeed) and sum(HourlyPrecipitation)\n",
    "    df['DATE'] = pd.to_datetime(df['DATE'])\n",
    "    df['DATE'] = df['DATE'].dt.date\n",
    "    daily_wind_speed = df[['DATE', 'HourlyWindSpeed']].groupby('DATE',group_keys = True).mean()\n",
    "    daily_precipitation = df[['DATE', 'HourlyPrecipitation']].groupby('DATE', group_keys = True).sum()\n",
    "\n",
    "    df = pd.concat([daily_wind_speed, daily_precipitation], axis=1)\n",
    "    df.reset_index(inplace=True)\n",
    "\n",
    "    return df"
   ]
  },
  {
   "cell_type": "markdown",
   "id": "dde71eeb",
   "metadata": {},
   "source": [
    "Load the sunrise and sunset time of each day."
   ]
  },
  {
   "cell_type": "code",
   "execution_count": 135,
   "id": "e9ed72be",
   "metadata": {},
   "outputs": [],
   "source": [
    "def clean_month_sun_data_daily(csv_file: str) -> pd.core.frame.DataFrame:\n",
    "    '''Load the sunrise and sunset time of each day.\n",
    "    \n",
    "    Keyword arguments:\n",
    "    csv_file -- The name of the raw data csv file.\n",
    "\n",
    "    Output:\n",
    "    A dataframe with the sunrise and sunset time of each day.\n",
    "    '''\n",
    "\n",
    "    # load data\n",
    "    df = pd.read_csv(csv_file, usecols=['DATE','Sunrise','Sunset'])\n",
    "    \n",
    "    # process date type\n",
    "    df['DATE'] = pd.to_datetime(df['DATE'])\n",
    "    df['DATE'] = df['DATE'].dt.date\n",
    "    df.drop('DATE', axis=1, inplace=True)\n",
    "\n",
    "    # deal with redundant data\n",
    "    df.dropna(subset=['Sunrise'], inplace=True)\n",
    "    \n",
    "    return df"
   ]
  },
  {
   "cell_type": "markdown",
   "id": "65aaa25b",
   "metadata": {},
   "source": [
    "Load and clean all weather and sun data from 2009 to 2015."
   ]
  },
  {
   "cell_type": "code",
   "execution_count": 136,
   "id": "3ef8945d",
   "metadata": {},
   "outputs": [],
   "source": [
    "def load_and_clean_weather_data():\n",
    "    hourly_dataframes = []\n",
    "    daily_dataframes = []\n",
    "    sun_dataframes = []\n",
    "    \n",
    "    # add the name/paths manually\n",
    "    weather_csv_files = [\"2009_weather.csv\", \"2010_weather.csv\", \"2011_weather.csv\", \"2012_weather.csv\",\n",
    "                         \"2013_weather.csv\", \"2014_weather.csv\", \"2015_weather.csv\"]\n",
    "    \n",
    "    for csv_file in weather_csv_files:\n",
    "        hourly_dataframe = clean_month_weather_data_hourly(WEATHER + csv_file)\n",
    "        daily_dataframe = clean_month_weather_data_daily(WEATHER + csv_file)\n",
    "        sun_dataframe = clean_month_sun_data_daily(WEATHER + csv_file)\n",
    "        hourly_dataframes.append(hourly_dataframe)\n",
    "        daily_dataframes.append(daily_dataframe)\n",
    "        sun_dataframes.append(sun_dataframe)\n",
    "        \n",
    "    # create three dataframes with hourly, daily data and sun from every month\n",
    "    hourly_data = pd.concat(hourly_dataframes)\n",
    "    daily_data = pd.concat(daily_dataframes)\n",
    "    sun_data = pd.concat(sun_dataframes)\n",
    "    \n",
    "    return hourly_data, daily_data, sun_data"
   ]
  },
  {
   "cell_type": "markdown",
   "id": "f900f7aa",
   "metadata": {},
   "source": [
    "### Process All Data\n",
    "\n",
    "_This is where you can actually execute all the required functions._\n",
    "\n",
    "_**TODO:** Write some prose that tells the reader what you're about to do here._"
   ]
  },
  {
   "cell_type": "code",
   "execution_count": 72,
   "id": "f7cd53a6",
   "metadata": {},
   "outputs": [
    {
     "name": "stdout",
     "output_type": "stream",
     "text": [
      "https://d37ci6vzurychx.cloudfront.net/trip-data/yellow_tripdata_2015-01.parquet\n"
     ]
    },
    {
     "name": "stderr",
     "output_type": "stream",
     "text": [
      "<ipython-input-10-104f6b2806cd>:26: UserWarning: Geometry is in a geographic CRS. Results from 'centroid' are likely incorrect. Use 'GeoSeries.to_crs()' to re-project geometries to a projected CRS before this operation.\n",
      "\n",
      "  taxi_zone_df['longitude'] = taxi_zone_df.centroid.x\n",
      "<ipython-input-10-104f6b2806cd>:27: UserWarning: Geometry is in a geographic CRS. Results from 'centroid' are likely incorrect. Use 'GeoSeries.to_crs()' to re-project geometries to a projected CRS before this operation.\n",
      "\n",
      "  taxi_zone_df['latitude'] = taxi_zone_df.centroid.y\n"
     ]
    },
    {
     "name": "stdout",
     "output_type": "stream",
     "text": [
      "https://d37ci6vzurychx.cloudfront.net/trip-data/yellow_tripdata_2015-01.parquet\n",
      "processing dataset1\n"
     ]
    },
    {
     "ename": "KeyboardInterrupt",
     "evalue": "",
     "output_type": "error",
     "traceback": [
      "\u001b[0;31m---------------------------------------------------------------------------\u001b[0m",
      "\u001b[0;31mKeyboardInterrupt\u001b[0m                         Traceback (most recent call last)",
      "\u001b[0;32m<ipython-input-72-0794acf56474>\u001b[0m in \u001b[0;36m<module>\u001b[0;34m\u001b[0m\n\u001b[0;32m----> 1\u001b[0;31m \u001b[0mtaxi_data\u001b[0m \u001b[0;34m=\u001b[0m \u001b[0mget_and_clean_taxi_data\u001b[0m\u001b[0;34m(\u001b[0m\u001b[0;34m)\u001b[0m\u001b[0;34m\u001b[0m\u001b[0;34m\u001b[0m\u001b[0m\n\u001b[0m\u001b[1;32m      2\u001b[0m \u001b[0muber_data\u001b[0m \u001b[0;34m=\u001b[0m \u001b[0mget_uber_data\u001b[0m\u001b[0;34m(\u001b[0m\u001b[0;34m)\u001b[0m\u001b[0;34m\u001b[0m\u001b[0;34m\u001b[0m\u001b[0m\n\u001b[1;32m      3\u001b[0m \u001b[0mhourly_data\u001b[0m\u001b[0;34m,\u001b[0m \u001b[0mdaily_data\u001b[0m\u001b[0;34m,\u001b[0m \u001b[0msun_data\u001b[0m \u001b[0;34m=\u001b[0m \u001b[0mload_and_clean_weather_data\u001b[0m\u001b[0;34m(\u001b[0m\u001b[0;34m)\u001b[0m\u001b[0;34m\u001b[0m\u001b[0;34m\u001b[0m\u001b[0m\n\u001b[1;32m      4\u001b[0m \u001b[0mdaily_data\u001b[0m\u001b[0;34m.\u001b[0m\u001b[0mcolumns\u001b[0m \u001b[0;34m=\u001b[0m \u001b[0;34m[\u001b[0m\u001b[0;34m'DATE'\u001b[0m\u001b[0;34m,\u001b[0m \u001b[0;34m'DailyPrecipitation'\u001b[0m\u001b[0;34m,\u001b[0m \u001b[0;34m'DailyWindSpeed'\u001b[0m\u001b[0;34m]\u001b[0m\u001b[0;34m\u001b[0m\u001b[0;34m\u001b[0m\u001b[0m\n\u001b[1;32m      5\u001b[0m \u001b[0;31m###\u001b[0m\u001b[0;34m\u001b[0m\u001b[0;34m\u001b[0m\u001b[0;34m\u001b[0m\u001b[0m\n",
      "\u001b[0;32m<ipython-input-11-fbc4cf4b9432>\u001b[0m in \u001b[0;36mget_and_clean_taxi_data\u001b[0;34m()\u001b[0m\n\u001b[1;32m      9\u001b[0m         \u001b[0mprint\u001b[0m\u001b[0;34m(\u001b[0m\u001b[0mone_url\u001b[0m\u001b[0;34m)\u001b[0m\u001b[0;34m\u001b[0m\u001b[0;34m\u001b[0m\u001b[0m\n\u001b[1;32m     10\u001b[0m         \u001b[0mprint\u001b[0m\u001b[0;34m(\u001b[0m\u001b[0;34m\"processing dataset\"\u001b[0m \u001b[0;34m+\u001b[0m \u001b[0mstr\u001b[0m\u001b[0;34m(\u001b[0m\u001b[0mcount\u001b[0m\u001b[0;34m)\u001b[0m\u001b[0;34m)\u001b[0m\u001b[0;34m\u001b[0m\u001b[0;34m\u001b[0m\u001b[0m\n\u001b[0;32m---> 11\u001b[0;31m         \u001b[0mdataframe\u001b[0m \u001b[0;34m=\u001b[0m \u001b[0mClean_month_taxi_data\u001b[0m\u001b[0;34m(\u001b[0m\u001b[0mone_url\u001b[0m\u001b[0;34m,\u001b[0m \u001b[0mGEOmetry\u001b[0m\u001b[0;34m)\u001b[0m\u001b[0;34m\u001b[0m\u001b[0;34m\u001b[0m\u001b[0m\n\u001b[0m\u001b[1;32m     12\u001b[0m         \u001b[0madd_distance_column\u001b[0m\u001b[0;34m(\u001b[0m\u001b[0mdataframe\u001b[0m\u001b[0;34m)\u001b[0m\u001b[0;34m\u001b[0m\u001b[0;34m\u001b[0m\u001b[0m\n\u001b[1;32m     13\u001b[0m         \u001b[0mall_taxi_dataframes\u001b[0m\u001b[0;34m.\u001b[0m\u001b[0mappend\u001b[0m\u001b[0;34m(\u001b[0m\u001b[0mdataframe\u001b[0m\u001b[0;34m)\u001b[0m\u001b[0;34m\u001b[0m\u001b[0;34m\u001b[0m\u001b[0m\n",
      "\u001b[0;32m<ipython-input-10-104f6b2806cd>\u001b[0m in \u001b[0;36mClean_month_taxi_data\u001b[0;34m(url, GEOmetry)\u001b[0m\n\u001b[1;32m     40\u001b[0m     '''\n\u001b[1;32m     41\u001b[0m     \u001b[0;31m# Call download_data fucntion to download data from url and return csv\u001b[0m\u001b[0;34m\u001b[0m\u001b[0;34m\u001b[0m\u001b[0;34m\u001b[0m\u001b[0m\n\u001b[0;32m---> 42\u001b[0;31m     \u001b[0mdf\u001b[0m \u001b[0;34m=\u001b[0m \u001b[0mDownload_data\u001b[0m\u001b[0;34m(\u001b[0m\u001b[0mlocalurl\u001b[0m \u001b[0;34m=\u001b[0m \u001b[0murl\u001b[0m\u001b[0;34m)\u001b[0m\u001b[0;34m\u001b[0m\u001b[0;34m\u001b[0m\u001b[0m\n\u001b[0m\u001b[1;32m     43\u001b[0m     \u001b[0mprint\u001b[0m\u001b[0;34m(\u001b[0m\u001b[0;34m\"cleaning data from\"\u001b[0m\u001b[0;34m,\u001b[0m \u001b[0murl\u001b[0m\u001b[0;34m)\u001b[0m\u001b[0;34m\u001b[0m\u001b[0;34m\u001b[0m\u001b[0m\n\u001b[1;32m     44\u001b[0m     \u001b[0;31m# looking up the latitude and longitude for some months where only location IDs are given for pickups and dropoffs\u001b[0m\u001b[0;34m\u001b[0m\u001b[0;34m\u001b[0m\u001b[0;34m\u001b[0m\u001b[0m\n",
      "\u001b[0;32m<ipython-input-10-104f6b2806cd>\u001b[0m in \u001b[0;36mDownload_data\u001b[0;34m(localurl)\u001b[0m\n\u001b[1;32m      8\u001b[0m     \u001b[0mfilename\u001b[0m \u001b[0;34m=\u001b[0m \u001b[0mlocalurl\u001b[0m\u001b[0;34m.\u001b[0m\u001b[0msplit\u001b[0m\u001b[0;34m(\u001b[0m\u001b[0;34m'/'\u001b[0m\u001b[0;34m)\u001b[0m\u001b[0;34m[\u001b[0m\u001b[0;34m-\u001b[0m\u001b[0;36m1\u001b[0m\u001b[0;34m]\u001b[0m\u001b[0;34m\u001b[0m\u001b[0;34m\u001b[0m\u001b[0m\n\u001b[1;32m      9\u001b[0m     \u001b[0;31m# download the file if it doesn't exist\u001b[0m\u001b[0;34m\u001b[0m\u001b[0;34m\u001b[0m\u001b[0;34m\u001b[0m\u001b[0m\n\u001b[0;32m---> 10\u001b[0;31m     \u001b[0mfile\u001b[0m \u001b[0;34m=\u001b[0m \u001b[0mrequests\u001b[0m\u001b[0;34m.\u001b[0m\u001b[0mget\u001b[0m\u001b[0;34m(\u001b[0m\u001b[0mlocalurl\u001b[0m\u001b[0;34m)\u001b[0m\u001b[0;34m\u001b[0m\u001b[0;34m\u001b[0m\u001b[0m\n\u001b[0m\u001b[1;32m     11\u001b[0m     \u001b[0;32mwith\u001b[0m \u001b[0mopen\u001b[0m\u001b[0;34m(\u001b[0m\u001b[0mfilename\u001b[0m \u001b[0;34m,\u001b[0m \u001b[0;34m\"wb\"\u001b[0m\u001b[0;34m)\u001b[0m \u001b[0;32mas\u001b[0m \u001b[0mf\u001b[0m\u001b[0;34m:\u001b[0m\u001b[0;34m\u001b[0m\u001b[0;34m\u001b[0m\u001b[0m\n\u001b[1;32m     12\u001b[0m         \u001b[0mf\u001b[0m\u001b[0;34m.\u001b[0m\u001b[0mwrite\u001b[0m\u001b[0;34m(\u001b[0m\u001b[0mfile\u001b[0m\u001b[0;34m.\u001b[0m\u001b[0mcontent\u001b[0m\u001b[0;34m)\u001b[0m\u001b[0;34m\u001b[0m\u001b[0;34m\u001b[0m\u001b[0m\n",
      "\u001b[0;32m/Library/Frameworks/Python.framework/Versions/3.8/lib/python3.8/site-packages/requests/api.py\u001b[0m in \u001b[0;36mget\u001b[0;34m(url, params, **kwargs)\u001b[0m\n\u001b[1;32m     74\u001b[0m \u001b[0;34m\u001b[0m\u001b[0m\n\u001b[1;32m     75\u001b[0m     \u001b[0mkwargs\u001b[0m\u001b[0;34m.\u001b[0m\u001b[0msetdefault\u001b[0m\u001b[0;34m(\u001b[0m\u001b[0;34m'allow_redirects'\u001b[0m\u001b[0;34m,\u001b[0m \u001b[0;32mTrue\u001b[0m\u001b[0;34m)\u001b[0m\u001b[0;34m\u001b[0m\u001b[0;34m\u001b[0m\u001b[0m\n\u001b[0;32m---> 76\u001b[0;31m     \u001b[0;32mreturn\u001b[0m \u001b[0mrequest\u001b[0m\u001b[0;34m(\u001b[0m\u001b[0;34m'get'\u001b[0m\u001b[0;34m,\u001b[0m \u001b[0murl\u001b[0m\u001b[0;34m,\u001b[0m \u001b[0mparams\u001b[0m\u001b[0;34m=\u001b[0m\u001b[0mparams\u001b[0m\u001b[0;34m,\u001b[0m \u001b[0;34m**\u001b[0m\u001b[0mkwargs\u001b[0m\u001b[0;34m)\u001b[0m\u001b[0;34m\u001b[0m\u001b[0;34m\u001b[0m\u001b[0m\n\u001b[0m\u001b[1;32m     77\u001b[0m \u001b[0;34m\u001b[0m\u001b[0m\n\u001b[1;32m     78\u001b[0m \u001b[0;34m\u001b[0m\u001b[0m\n",
      "\u001b[0;32m/Library/Frameworks/Python.framework/Versions/3.8/lib/python3.8/site-packages/requests/api.py\u001b[0m in \u001b[0;36mrequest\u001b[0;34m(method, url, **kwargs)\u001b[0m\n\u001b[1;32m     59\u001b[0m     \u001b[0;31m# cases, and look like a memory leak in others.\u001b[0m\u001b[0;34m\u001b[0m\u001b[0;34m\u001b[0m\u001b[0;34m\u001b[0m\u001b[0m\n\u001b[1;32m     60\u001b[0m     \u001b[0;32mwith\u001b[0m \u001b[0msessions\u001b[0m\u001b[0;34m.\u001b[0m\u001b[0mSession\u001b[0m\u001b[0;34m(\u001b[0m\u001b[0;34m)\u001b[0m \u001b[0;32mas\u001b[0m \u001b[0msession\u001b[0m\u001b[0;34m:\u001b[0m\u001b[0;34m\u001b[0m\u001b[0;34m\u001b[0m\u001b[0m\n\u001b[0;32m---> 61\u001b[0;31m         \u001b[0;32mreturn\u001b[0m \u001b[0msession\u001b[0m\u001b[0;34m.\u001b[0m\u001b[0mrequest\u001b[0m\u001b[0;34m(\u001b[0m\u001b[0mmethod\u001b[0m\u001b[0;34m=\u001b[0m\u001b[0mmethod\u001b[0m\u001b[0;34m,\u001b[0m \u001b[0murl\u001b[0m\u001b[0;34m=\u001b[0m\u001b[0murl\u001b[0m\u001b[0;34m,\u001b[0m \u001b[0;34m**\u001b[0m\u001b[0mkwargs\u001b[0m\u001b[0;34m)\u001b[0m\u001b[0;34m\u001b[0m\u001b[0;34m\u001b[0m\u001b[0m\n\u001b[0m\u001b[1;32m     62\u001b[0m \u001b[0;34m\u001b[0m\u001b[0m\n\u001b[1;32m     63\u001b[0m \u001b[0;34m\u001b[0m\u001b[0m\n",
      "\u001b[0;32m/Library/Frameworks/Python.framework/Versions/3.8/lib/python3.8/site-packages/requests/sessions.py\u001b[0m in \u001b[0;36mrequest\u001b[0;34m(self, method, url, params, data, headers, cookies, files, auth, timeout, allow_redirects, proxies, hooks, stream, verify, cert, json)\u001b[0m\n\u001b[1;32m    540\u001b[0m         }\n\u001b[1;32m    541\u001b[0m         \u001b[0msend_kwargs\u001b[0m\u001b[0;34m.\u001b[0m\u001b[0mupdate\u001b[0m\u001b[0;34m(\u001b[0m\u001b[0msettings\u001b[0m\u001b[0;34m)\u001b[0m\u001b[0;34m\u001b[0m\u001b[0;34m\u001b[0m\u001b[0m\n\u001b[0;32m--> 542\u001b[0;31m         \u001b[0mresp\u001b[0m \u001b[0;34m=\u001b[0m \u001b[0mself\u001b[0m\u001b[0;34m.\u001b[0m\u001b[0msend\u001b[0m\u001b[0;34m(\u001b[0m\u001b[0mprep\u001b[0m\u001b[0;34m,\u001b[0m \u001b[0;34m**\u001b[0m\u001b[0msend_kwargs\u001b[0m\u001b[0;34m)\u001b[0m\u001b[0;34m\u001b[0m\u001b[0;34m\u001b[0m\u001b[0m\n\u001b[0m\u001b[1;32m    543\u001b[0m \u001b[0;34m\u001b[0m\u001b[0m\n\u001b[1;32m    544\u001b[0m         \u001b[0;32mreturn\u001b[0m \u001b[0mresp\u001b[0m\u001b[0;34m\u001b[0m\u001b[0;34m\u001b[0m\u001b[0m\n",
      "\u001b[0;32m/Library/Frameworks/Python.framework/Versions/3.8/lib/python3.8/site-packages/requests/sessions.py\u001b[0m in \u001b[0;36msend\u001b[0;34m(self, request, **kwargs)\u001b[0m\n\u001b[1;32m    695\u001b[0m \u001b[0;34m\u001b[0m\u001b[0m\n\u001b[1;32m    696\u001b[0m         \u001b[0;32mif\u001b[0m \u001b[0;32mnot\u001b[0m \u001b[0mstream\u001b[0m\u001b[0;34m:\u001b[0m\u001b[0;34m\u001b[0m\u001b[0;34m\u001b[0m\u001b[0m\n\u001b[0;32m--> 697\u001b[0;31m             \u001b[0mr\u001b[0m\u001b[0;34m.\u001b[0m\u001b[0mcontent\u001b[0m\u001b[0;34m\u001b[0m\u001b[0;34m\u001b[0m\u001b[0m\n\u001b[0m\u001b[1;32m    698\u001b[0m \u001b[0;34m\u001b[0m\u001b[0m\n\u001b[1;32m    699\u001b[0m         \u001b[0;32mreturn\u001b[0m \u001b[0mr\u001b[0m\u001b[0;34m\u001b[0m\u001b[0;34m\u001b[0m\u001b[0m\n",
      "\u001b[0;32m/Library/Frameworks/Python.framework/Versions/3.8/lib/python3.8/site-packages/requests/models.py\u001b[0m in \u001b[0;36mcontent\u001b[0;34m(self)\u001b[0m\n\u001b[1;32m    829\u001b[0m                 \u001b[0mself\u001b[0m\u001b[0;34m.\u001b[0m\u001b[0m_content\u001b[0m \u001b[0;34m=\u001b[0m \u001b[0;32mNone\u001b[0m\u001b[0;34m\u001b[0m\u001b[0;34m\u001b[0m\u001b[0m\n\u001b[1;32m    830\u001b[0m             \u001b[0;32melse\u001b[0m\u001b[0;34m:\u001b[0m\u001b[0;34m\u001b[0m\u001b[0;34m\u001b[0m\u001b[0m\n\u001b[0;32m--> 831\u001b[0;31m                 \u001b[0mself\u001b[0m\u001b[0;34m.\u001b[0m\u001b[0m_content\u001b[0m \u001b[0;34m=\u001b[0m \u001b[0;34mb''\u001b[0m\u001b[0;34m.\u001b[0m\u001b[0mjoin\u001b[0m\u001b[0;34m(\u001b[0m\u001b[0mself\u001b[0m\u001b[0;34m.\u001b[0m\u001b[0miter_content\u001b[0m\u001b[0;34m(\u001b[0m\u001b[0mCONTENT_CHUNK_SIZE\u001b[0m\u001b[0;34m)\u001b[0m\u001b[0;34m)\u001b[0m \u001b[0;32mor\u001b[0m \u001b[0;34mb''\u001b[0m\u001b[0;34m\u001b[0m\u001b[0;34m\u001b[0m\u001b[0m\n\u001b[0m\u001b[1;32m    832\u001b[0m \u001b[0;34m\u001b[0m\u001b[0m\n\u001b[1;32m    833\u001b[0m         \u001b[0mself\u001b[0m\u001b[0;34m.\u001b[0m\u001b[0m_content_consumed\u001b[0m \u001b[0;34m=\u001b[0m \u001b[0;32mTrue\u001b[0m\u001b[0;34m\u001b[0m\u001b[0;34m\u001b[0m\u001b[0m\n",
      "\u001b[0;32m/Library/Frameworks/Python.framework/Versions/3.8/lib/python3.8/site-packages/requests/models.py\u001b[0m in \u001b[0;36mgenerate\u001b[0;34m()\u001b[0m\n\u001b[1;32m    751\u001b[0m             \u001b[0;32mif\u001b[0m \u001b[0mhasattr\u001b[0m\u001b[0;34m(\u001b[0m\u001b[0mself\u001b[0m\u001b[0;34m.\u001b[0m\u001b[0mraw\u001b[0m\u001b[0;34m,\u001b[0m \u001b[0;34m'stream'\u001b[0m\u001b[0;34m)\u001b[0m\u001b[0;34m:\u001b[0m\u001b[0;34m\u001b[0m\u001b[0;34m\u001b[0m\u001b[0m\n\u001b[1;32m    752\u001b[0m                 \u001b[0;32mtry\u001b[0m\u001b[0;34m:\u001b[0m\u001b[0;34m\u001b[0m\u001b[0;34m\u001b[0m\u001b[0m\n\u001b[0;32m--> 753\u001b[0;31m                     \u001b[0;32mfor\u001b[0m \u001b[0mchunk\u001b[0m \u001b[0;32min\u001b[0m \u001b[0mself\u001b[0m\u001b[0;34m.\u001b[0m\u001b[0mraw\u001b[0m\u001b[0;34m.\u001b[0m\u001b[0mstream\u001b[0m\u001b[0;34m(\u001b[0m\u001b[0mchunk_size\u001b[0m\u001b[0;34m,\u001b[0m \u001b[0mdecode_content\u001b[0m\u001b[0;34m=\u001b[0m\u001b[0;32mTrue\u001b[0m\u001b[0;34m)\u001b[0m\u001b[0;34m:\u001b[0m\u001b[0;34m\u001b[0m\u001b[0;34m\u001b[0m\u001b[0m\n\u001b[0m\u001b[1;32m    754\u001b[0m                         \u001b[0;32myield\u001b[0m \u001b[0mchunk\u001b[0m\u001b[0;34m\u001b[0m\u001b[0;34m\u001b[0m\u001b[0m\n\u001b[1;32m    755\u001b[0m                 \u001b[0;32mexcept\u001b[0m \u001b[0mProtocolError\u001b[0m \u001b[0;32mas\u001b[0m \u001b[0me\u001b[0m\u001b[0;34m:\u001b[0m\u001b[0;34m\u001b[0m\u001b[0;34m\u001b[0m\u001b[0m\n",
      "\u001b[0;32m/Library/Frameworks/Python.framework/Versions/3.8/lib/python3.8/site-packages/urllib3/response.py\u001b[0m in \u001b[0;36mstream\u001b[0;34m(self, amt, decode_content)\u001b[0m\n\u001b[1;32m    574\u001b[0m         \u001b[0;32melse\u001b[0m\u001b[0;34m:\u001b[0m\u001b[0;34m\u001b[0m\u001b[0;34m\u001b[0m\u001b[0m\n\u001b[1;32m    575\u001b[0m             \u001b[0;32mwhile\u001b[0m \u001b[0;32mnot\u001b[0m \u001b[0mis_fp_closed\u001b[0m\u001b[0;34m(\u001b[0m\u001b[0mself\u001b[0m\u001b[0;34m.\u001b[0m\u001b[0m_fp\u001b[0m\u001b[0;34m)\u001b[0m\u001b[0;34m:\u001b[0m\u001b[0;34m\u001b[0m\u001b[0;34m\u001b[0m\u001b[0m\n\u001b[0;32m--> 576\u001b[0;31m                 \u001b[0mdata\u001b[0m \u001b[0;34m=\u001b[0m \u001b[0mself\u001b[0m\u001b[0;34m.\u001b[0m\u001b[0mread\u001b[0m\u001b[0;34m(\u001b[0m\u001b[0mamt\u001b[0m\u001b[0;34m=\u001b[0m\u001b[0mamt\u001b[0m\u001b[0;34m,\u001b[0m \u001b[0mdecode_content\u001b[0m\u001b[0;34m=\u001b[0m\u001b[0mdecode_content\u001b[0m\u001b[0;34m)\u001b[0m\u001b[0;34m\u001b[0m\u001b[0;34m\u001b[0m\u001b[0m\n\u001b[0m\u001b[1;32m    577\u001b[0m \u001b[0;34m\u001b[0m\u001b[0m\n\u001b[1;32m    578\u001b[0m                 \u001b[0;32mif\u001b[0m \u001b[0mdata\u001b[0m\u001b[0;34m:\u001b[0m\u001b[0;34m\u001b[0m\u001b[0;34m\u001b[0m\u001b[0m\n",
      "\u001b[0;32m/Library/Frameworks/Python.framework/Versions/3.8/lib/python3.8/site-packages/urllib3/response.py\u001b[0m in \u001b[0;36mread\u001b[0;34m(self, amt, decode_content, cache_content)\u001b[0m\n\u001b[1;32m    517\u001b[0m             \u001b[0;32melse\u001b[0m\u001b[0;34m:\u001b[0m\u001b[0;34m\u001b[0m\u001b[0;34m\u001b[0m\u001b[0m\n\u001b[1;32m    518\u001b[0m                 \u001b[0mcache_content\u001b[0m \u001b[0;34m=\u001b[0m \u001b[0;32mFalse\u001b[0m\u001b[0;34m\u001b[0m\u001b[0;34m\u001b[0m\u001b[0m\n\u001b[0;32m--> 519\u001b[0;31m                 \u001b[0mdata\u001b[0m \u001b[0;34m=\u001b[0m \u001b[0mself\u001b[0m\u001b[0;34m.\u001b[0m\u001b[0m_fp\u001b[0m\u001b[0;34m.\u001b[0m\u001b[0mread\u001b[0m\u001b[0;34m(\u001b[0m\u001b[0mamt\u001b[0m\u001b[0;34m)\u001b[0m \u001b[0;32mif\u001b[0m \u001b[0;32mnot\u001b[0m \u001b[0mfp_closed\u001b[0m \u001b[0;32melse\u001b[0m \u001b[0;34mb\"\"\u001b[0m\u001b[0;34m\u001b[0m\u001b[0;34m\u001b[0m\u001b[0m\n\u001b[0m\u001b[1;32m    520\u001b[0m                 if (\n\u001b[1;32m    521\u001b[0m                     \u001b[0mamt\u001b[0m \u001b[0;34m!=\u001b[0m \u001b[0;36m0\u001b[0m \u001b[0;32mand\u001b[0m \u001b[0;32mnot\u001b[0m \u001b[0mdata\u001b[0m\u001b[0;34m\u001b[0m\u001b[0;34m\u001b[0m\u001b[0m\n",
      "\u001b[0;32m/Library/Frameworks/Python.framework/Versions/3.8/lib/python3.8/http/client.py\u001b[0m in \u001b[0;36mread\u001b[0;34m(self, amt)\u001b[0m\n\u001b[1;32m    452\u001b[0m             \u001b[0;31m# Amount is given, implement using readinto\u001b[0m\u001b[0;34m\u001b[0m\u001b[0;34m\u001b[0m\u001b[0;34m\u001b[0m\u001b[0m\n\u001b[1;32m    453\u001b[0m             \u001b[0mb\u001b[0m \u001b[0;34m=\u001b[0m \u001b[0mbytearray\u001b[0m\u001b[0;34m(\u001b[0m\u001b[0mamt\u001b[0m\u001b[0;34m)\u001b[0m\u001b[0;34m\u001b[0m\u001b[0;34m\u001b[0m\u001b[0m\n\u001b[0;32m--> 454\u001b[0;31m             \u001b[0mn\u001b[0m \u001b[0;34m=\u001b[0m \u001b[0mself\u001b[0m\u001b[0;34m.\u001b[0m\u001b[0mreadinto\u001b[0m\u001b[0;34m(\u001b[0m\u001b[0mb\u001b[0m\u001b[0;34m)\u001b[0m\u001b[0;34m\u001b[0m\u001b[0;34m\u001b[0m\u001b[0m\n\u001b[0m\u001b[1;32m    455\u001b[0m             \u001b[0;32mreturn\u001b[0m \u001b[0mmemoryview\u001b[0m\u001b[0;34m(\u001b[0m\u001b[0mb\u001b[0m\u001b[0;34m)\u001b[0m\u001b[0;34m[\u001b[0m\u001b[0;34m:\u001b[0m\u001b[0mn\u001b[0m\u001b[0;34m]\u001b[0m\u001b[0;34m.\u001b[0m\u001b[0mtobytes\u001b[0m\u001b[0;34m(\u001b[0m\u001b[0;34m)\u001b[0m\u001b[0;34m\u001b[0m\u001b[0;34m\u001b[0m\u001b[0m\n\u001b[1;32m    456\u001b[0m         \u001b[0;32melse\u001b[0m\u001b[0;34m:\u001b[0m\u001b[0;34m\u001b[0m\u001b[0;34m\u001b[0m\u001b[0m\n",
      "\u001b[0;32m/Library/Frameworks/Python.framework/Versions/3.8/lib/python3.8/http/client.py\u001b[0m in \u001b[0;36mreadinto\u001b[0;34m(self, b)\u001b[0m\n\u001b[1;32m    501\u001b[0m             \u001b[0;31m# wasn't satisfied, but it might break compatibility.\u001b[0m\u001b[0;34m\u001b[0m\u001b[0;34m\u001b[0m\u001b[0;34m\u001b[0m\u001b[0m\n\u001b[1;32m    502\u001b[0m             \u001b[0mself\u001b[0m\u001b[0;34m.\u001b[0m\u001b[0m_close_conn\u001b[0m\u001b[0;34m(\u001b[0m\u001b[0;34m)\u001b[0m\u001b[0;34m\u001b[0m\u001b[0;34m\u001b[0m\u001b[0m\n\u001b[0;32m--> 503\u001b[0;31m         \u001b[0;32melif\u001b[0m \u001b[0mself\u001b[0m\u001b[0;34m.\u001b[0m\u001b[0mlength\u001b[0m \u001b[0;32mis\u001b[0m \u001b[0;32mnot\u001b[0m \u001b[0;32mNone\u001b[0m\u001b[0;34m:\u001b[0m\u001b[0;34m\u001b[0m\u001b[0;34m\u001b[0m\u001b[0m\n\u001b[0m\u001b[1;32m    504\u001b[0m             \u001b[0mself\u001b[0m\u001b[0;34m.\u001b[0m\u001b[0mlength\u001b[0m \u001b[0;34m-=\u001b[0m \u001b[0mn\u001b[0m\u001b[0;34m\u001b[0m\u001b[0;34m\u001b[0m\u001b[0m\n\u001b[1;32m    505\u001b[0m             \u001b[0;32mif\u001b[0m \u001b[0;32mnot\u001b[0m \u001b[0mself\u001b[0m\u001b[0;34m.\u001b[0m\u001b[0mlength\u001b[0m\u001b[0;34m:\u001b[0m\u001b[0;34m\u001b[0m\u001b[0;34m\u001b[0m\u001b[0m\n",
      "\u001b[0;31mKeyboardInterrupt\u001b[0m: "
     ]
    }
   ],
   "source": [
    "taxi_data = get_and_clean_taxi_data()\n",
    "uber_data = get_uber_data()\n",
    "hourly_data, daily_data, sun_data = load_and_clean_weather_data()\n",
    "daily_data.columns = ['DATE', 'DailyPrecipitation', 'DailyWindSpeed']\n",
    "###"
   ]
  },
  {
   "cell_type": "markdown",
   "id": "dd101f11",
   "metadata": {},
   "source": [
    "## Part 2: Storing Cleaned Data\n",
    "\n",
    "_Write some prose that tells the reader what you're about to do here._"
   ]
  },
  {
   "cell_type": "code",
   "execution_count": 23,
   "id": "f3529cf6",
   "metadata": {},
   "outputs": [],
   "source": [
    "engine = db.create_engine(DATABASE_URL)"
   ]
  },
  {
   "cell_type": "code",
   "execution_count": 24,
   "id": "d2bea0ff",
   "metadata": {},
   "outputs": [],
   "source": [
    "# if using SQL (as opposed to SQLAlchemy), define the commands \n",
    "# to create your 4 tables/dataframes\n",
    "HOURLY_WEATHER_SCHEMA = \\\n",
    "\"\"\"\n",
    "CREATE TABLE IF NOT EXISTS hourly_weather (\n",
    "    id INTEGER PRIMARY KEY AUTOINCREMENT,\n",
    "    DATE DATE,\n",
    "    HourlyWindSpeed FLOAT,\n",
    "    HourlyPrecipitation FLOAT\n",
    ");\n",
    "\"\"\"\n",
    "\n",
    "DAILY_WEATHER_SCHEMA =\\\n",
    "\"\"\"\n",
    "CREATE TABLE IF NOT EXISTS daily_weather (\n",
    "    id INTEGER PRIMARY KEY AUTOINCREMENT,\n",
    "    DATE DATE,\n",
    "    DailyWindSpeed FLOAT,\n",
    "    DailyPrecipitation FLOAT\n",
    ");\n",
    "\"\"\"\n",
    "\n",
    "TAXI_TRIPS_SCHEMA = \\\n",
    "\"\"\"\n",
    "CREATE TABLE IF NOT EXISTS taxi_trips (\n",
    "    id INTEGER PRIMARY KEY AUTOINCREMENT,\n",
    "    pickup_datetime DATE,\n",
    "    dropoff_datetime DATE,\n",
    "    pickup_longitude FLOAT,\n",
    "    pickup_latitude FLOAT,\n",
    "    dropoff_longitude FLOAT,\n",
    "    dropoff_latitude FLOAT,\n",
    "    tip_amount FLOAT,\n",
    "    distance FLOAT\n",
    ");\n",
    "\"\"\"\n",
    "\n",
    "UBER_TRIPS_SCHEMA =\\\n",
    "\"\"\"\n",
    "CREATE TABLE IF NOT EXISTS uber_trips (\n",
    "    id INTEGER PRIMARY KEY AUTOINCREMENT,\n",
    "    pickup_datetime DATE,\n",
    "    pickup_longitude FLOAT,\n",
    "    pickup_latitude FLOAT,\n",
    "    dropoff_longitude FLOAT,\n",
    "    dropoff_latitude FLOAT,\n",
    "    distance FLOAT\n",
    ");\n",
    "\"\"\"\n",
    "\n",
    "SUN_SCHEMA = \\\n",
    "\"\"\"\n",
    "CREATE TABLE IF NOT EXISTS sun_data (\n",
    "    id INTEGER PRIMARY KEY AUTOINCREMENT,\n",
    "    DATE DATE,\n",
    "    Sunrise INT,\n",
    "    Sunset INT\n",
    ");\n",
    "\"\"\"\n"
   ]
  },
  {
   "cell_type": "code",
   "execution_count": 25,
   "id": "5f41e54b",
   "metadata": {},
   "outputs": [],
   "source": [
    "# create that required schema.sql file\n",
    "with open(DATABASE_SCHEMA_FILE, \"w\") as f:\n",
    "    f.write(HOURLY_WEATHER_SCHEMA)\n",
    "    f.write(DAILY_WEATHER_SCHEMA)\n",
    "    f.write(TAXI_TRIPS_SCHEMA)\n",
    "    f.write(UBER_TRIPS_SCHEMA)\n",
    "    f.write(SUN_SCHEMA)"
   ]
  },
  {
   "cell_type": "code",
   "execution_count": 26,
   "id": "02eccdba",
   "metadata": {},
   "outputs": [],
   "source": [
    "# create the tables with the schema files\n",
    "with engine.connect() as connection:\n",
    "    sql = open(DATABASE_SCHEMA_FILE, \"r\")\n",
    "    commands = sql.read().split(\";\")\n",
    "    sql.close()\n",
    "    for command in commands:\n",
    "        connection.execute(command)\n"
   ]
  },
  {
   "cell_type": "markdown",
   "id": "c122964f",
   "metadata": {},
   "source": [
    "### Add Data to Database\n",
    "\n",
    "_**TODO:** Write some prose that tells the reader what you're about to do here._"
   ]
  },
  {
   "cell_type": "code",
   "execution_count": 27,
   "id": "0e68a363",
   "metadata": {},
   "outputs": [],
   "source": [
    "def write_dataframes_to_table(table_to_df_dict: dict):\n",
    "    \"\"\"\n",
    "    high\n",
    "    \"\"\"\n",
    "    for i, j in table_to_df_dict.items():\n",
    "        j.to_sql(i,engine, if_exists = 'append', index = False)\n",
    "    return"
   ]
  },
  {
   "cell_type": "code",
   "execution_count": 28,
   "id": "45d6c06c",
   "metadata": {},
   "outputs": [],
   "source": [
    "map_table_name_to_dataframe = {\n",
    "    \"taxi_trips\": taxi_data,\n",
    "    \"uber_trips\": uber_data,\n",
    "    \"hourly_weather\": hourly_data,\n",
    "    \"daily_weather\": daily_data,\n",
    "    \"sun_data\": sun_data\n",
    "}"
   ]
  },
  {
   "cell_type": "code",
   "execution_count": 93,
   "id": "74004f96",
   "metadata": {},
   "outputs": [],
   "source": [
    "write_dataframes_to_table(map_table_name_to_dataframe)"
   ]
  },
  {
   "cell_type": "markdown",
   "id": "8cb6e33e",
   "metadata": {},
   "source": [
    "## Part 3: Understanding the Data"
   ]
  },
  {
   "cell_type": "markdown",
   "id": "b4753fcd",
   "metadata": {},
   "source": [
    "_A checklist of requirements to keep you on track. Remove this whole cell before submitting the project. The order of these tasks aren't necessarily the order in which they need to be done. It's okay to do them in an order that makes sense to you._\n",
    "\n",
    "* [ ] For 01-2009 through 06-2015, what hour of the day was the most popular to take a yellow taxi? The result should have 24 bins.\n",
    "* [ ] For the same time frame, what day of the week was the most popular to take an uber? The result should have 7 bins.\n",
    "* [ ] What is the 95% percentile of distance traveled for all hired trips during July 2013?\n",
    "* [ ] What were the top 10 days with the highest number of hired rides for 2009, and what was the average distance for each day?\n",
    "* [ ] Which 10 days in 2014 were the windiest, and how many hired trips were made on those days?\n",
    "* [ ] During Hurricane Sandy in NYC (Oct 29-30, 2012) and the week leading up to it, how many trips were taken each hour, and for each hour, how much precipitation did NYC receive and what was the sustained wind speed?"
   ]
  },
  {
   "cell_type": "markdown",
   "id": "d3adaffd",
   "metadata": {},
   "source": [
    "Write SQL codes to file."
   ]
  },
  {
   "cell_type": "code",
   "execution_count": 34,
   "id": "6a849e92",
   "metadata": {},
   "outputs": [],
   "source": [
    "def write_query_to_file(query: str, outfile: str):\n",
    "    '''Write SQL codes to file.\n",
    "\n",
    "    Keyword arguments:\n",
    "    query -- The SQL query.\n",
    "    outfile -- The name of the output file.\n",
    "    '''\n",
    "\n",
    "    with open(outfile, \"w\") as f:\n",
    "        f.write(query)"
   ]
  },
  {
   "cell_type": "markdown",
   "id": "ee70a777",
   "metadata": {},
   "source": [
    "### Query 1\n",
    "For 01-2009 through 06-2015, what hour of the day was the most popular to take a Yellow Taxi? The result should have 24 bins."
   ]
  },
  {
   "cell_type": "code",
   "execution_count": 35,
   "id": "db871d3c",
   "metadata": {},
   "outputs": [],
   "source": [
    "QUERY_1 = \"\"\"\n",
    "    SELECT strftime('%H', pickup_datetime) AS hour, \n",
    "           COUNT(*) AS trip_count\n",
    "    FROM taxi_trips\n",
    "    GROUP BY hour\n",
    "    ORDER BY trip_count DESC;\n",
    "\"\"\""
   ]
  },
  {
   "cell_type": "code",
   "execution_count": 36,
   "id": "c5275f3a",
   "metadata": {},
   "outputs": [
    {
     "data": {
      "text/plain": [
       "[('17', 624),\n",
       " ('19', 582),\n",
       " ('21', 566),\n",
       " ('20', 560),\n",
       " ('18', 558),\n",
       " ('14', 540),\n",
       " ('12', 524),\n",
       " ('22', 516),\n",
       " ('13', 500),\n",
       " ('15', 496),\n",
       " ('11', 494),\n",
       " ('10', 486),\n",
       " ('23', 476),\n",
       " ('09', 456),\n",
       " ('08', 434),\n",
       " ('16', 422),\n",
       " ('00', 384),\n",
       " ('07', 372),\n",
       " ('01', 262),\n",
       " ('02', 214),\n",
       " ('06', 176),\n",
       " ('03', 162),\n",
       " ('04', 104),\n",
       " ('05', 92)]"
      ]
     },
     "execution_count": 36,
     "metadata": {},
     "output_type": "execute_result"
    }
   ],
   "source": [
    "engine.execute(QUERY_1).fetchall()"
   ]
  },
  {
   "cell_type": "code",
   "execution_count": 37,
   "id": "a2ef04df",
   "metadata": {},
   "outputs": [],
   "source": [
    "write_query_to_file(QUERY_1, \"hour_trend_taxi.sql\")"
   ]
  },
  {
   "cell_type": "markdown",
   "id": "88e5c208",
   "metadata": {},
   "source": [
    "### Query 2\n",
    "For the same time frame, what day of the week was the most popular to take an Uber? The result should have 7 bins."
   ]
  },
  {
   "cell_type": "code",
   "execution_count": 38,
   "id": "0a876346",
   "metadata": {},
   "outputs": [],
   "source": [
    "QUERY_2 = \"\"\"\n",
    "    SELECT strftime('%w', pickup_datetime) AS day, \n",
    "           COUNT(*) AS trip_count\n",
    "    FROM uber_trips\n",
    "    GROUP BY day\n",
    "    ORDER BY trip_count DESC;\n",
    "\"\"\""
   ]
  },
  {
   "cell_type": "code",
   "execution_count": 39,
   "id": "d91841a5",
   "metadata": {},
   "outputs": [
    {
     "data": {
      "text/plain": [
       "[('5', 60332),\n",
       " ('6', 59198),\n",
       " ('4', 58676),\n",
       " ('3', 56656),\n",
       " ('2', 55052),\n",
       " ('0', 51668),\n",
       " ('1', 49362)]"
      ]
     },
     "execution_count": 39,
     "metadata": {},
     "output_type": "execute_result"
    }
   ],
   "source": [
    "engine.execute(QUERY_2).fetchall()"
   ]
  },
  {
   "cell_type": "code",
   "execution_count": 40,
   "id": "8adbde1b",
   "metadata": {},
   "outputs": [],
   "source": [
    "write_query_to_file(QUERY_2, \"day_trend_uber.sql\")"
   ]
  },
  {
   "cell_type": "markdown",
   "id": "94ab3fe8",
   "metadata": {},
   "source": [
    "### Query 3\n",
    "What is the 95% percentile of distance traveled for all hired trips during July 2013?"
   ]
  },
  {
   "cell_type": "code",
   "execution_count": 41,
   "id": "8938f4e2",
   "metadata": {},
   "outputs": [],
   "source": [
    "QUERY_3 = \"\"\"\n",
    "    WITH all_trips AS (SELECT pickup_datetime, distance \n",
    "                       FROM taxi_trips \n",
    "                       WHERE pickup_datetime BETWEEN '2013-07-01' AND '2013-07-31'\n",
    "                       UNION ALL\n",
    "                       SELECT pickup_datetime, distance \n",
    "                       FROM uber_trips\n",
    "                       WHERE pickup_datetime BETWEEN '2013-07-01' AND '2013-07-31')\n",
    "    SELECT distance AS '95% percentile distance'\n",
    "    FROM all_trips\n",
    "    ORDER BY distance ASC\n",
    "    LIMIT 1\n",
    "    OFFSET (SELECT COUNT(*) \n",
    "            FROM all_trips) * 95 / 100 - 1 ;\n",
    "\"\"\""
   ]
  },
  {
   "cell_type": "code",
   "execution_count": 42,
   "id": "cd53d500",
   "metadata": {},
   "outputs": [
    {
     "data": {
      "text/plain": [
       "[(10.34857188899336,)]"
      ]
     },
     "execution_count": 42,
     "metadata": {},
     "output_type": "execute_result"
    }
   ],
   "source": [
    "engine.execute(QUERY_3).fetchall()"
   ]
  },
  {
   "cell_type": "code",
   "execution_count": 43,
   "id": "7ef7f974",
   "metadata": {},
   "outputs": [],
   "source": [
    "write_query_to_file(QUERY_3, \"95_percentile_trips.sql\")"
   ]
  },
  {
   "cell_type": "markdown",
   "id": "9f3afa86",
   "metadata": {},
   "source": [
    "### Query 4\n",
    "What were the top 10 days with the highest number of hired rides for 2009, and what was the average distance for each day?"
   ]
  },
  {
   "cell_type": "code",
   "execution_count": 44,
   "id": "01861328",
   "metadata": {},
   "outputs": [],
   "source": [
    "QUERY_4 = \"\"\"\n",
    "    WITH all_trips AS (SELECT pickup_datetime, distance \n",
    "                       FROM taxi_trips \n",
    "                       WHERE pickup_datetime BETWEEN '2009-01-01' AND '2009-12-31'\n",
    "                       UNION ALL\n",
    "                       SELECT pickup_datetime, distance \n",
    "                       FROM uber_trips\n",
    "                       WHERE pickup_datetime BETWEEN '2009-01-01' AND '2009-12-31')\n",
    "    SELECT date(pickup_datetime) AS date, AVG(distance) AS avg_distance, COUNT(*) AS trip_count\n",
    "    FROM all_trips\n",
    "    GROUP BY date\n",
    "    ORDER BY trip_count DESC\n",
    "    LIMIT 10;\n",
    "\"\"\""
   ]
  },
  {
   "cell_type": "code",
   "execution_count": 45,
   "id": "f340835c",
   "metadata": {},
   "outputs": [
    {
     "data": {
      "text/plain": [
       "[('2009-12-11', 2.975892034720371, 254),\n",
       " ('2009-10-23', 2.4524671315099416, 246),\n",
       " ('2009-08-14', 3.5486176206355866, 238),\n",
       " ('2009-04-18', 3.3297941252720964, 226),\n",
       " ('2009-01-31', 2.7919509511955454, 224),\n",
       " ('2009-05-08', 3.3112073580725667, 222),\n",
       " ('2009-07-09', 3.4544163807019297, 222),\n",
       " ('2009-03-19', 3.294181937318398, 220),\n",
       " ('2009-05-16', 2.7727537127507, 218),\n",
       " ('2009-04-04', 2.6060268703852185, 216)]"
      ]
     },
     "execution_count": 45,
     "metadata": {},
     "output_type": "execute_result"
    }
   ],
   "source": [
    "engine.execute(QUERY_4).fetchall()"
   ]
  },
  {
   "cell_type": "code",
   "execution_count": 46,
   "id": "bb57daf1",
   "metadata": {},
   "outputs": [],
   "source": [
    "write_query_to_file(QUERY_4, \"10_days_most_trips.sql\")"
   ]
  },
  {
   "cell_type": "markdown",
   "id": "beb0ff96",
   "metadata": {},
   "source": [
    "### Query 5\n",
    "Which 10 days in 2014 were the windiest on average, and how many hired trips were made on those days?"
   ]
  },
  {
   "cell_type": "code",
   "execution_count": 49,
   "id": "4848effc",
   "metadata": {},
   "outputs": [],
   "source": [
    "QUERY_5 = \"\"\"\n",
    "    WITH all_trips AS (SELECT pickup_datetime \n",
    "                       FROM taxi_trips\n",
    "                       UNION ALL\n",
    "                       SELECT pickup_datetime \n",
    "                       FROM uber_trips)\n",
    "    SELECT date(pickup_datetime) AS date, COUNT(*) AS trip_count\n",
    "    FROM all_trips\n",
    "    GROUP BY date\n",
    "    HAVING date IN (SELECT date(DATE) \n",
    "                    FROM daily_weather \n",
    "                    WHERE DATE BETWEEN '2014-01-01' AND '2014-12-31' \n",
    "                    ORDER BY DailyWindSpeed DESC \n",
    "                    LIMIT 10);\n",
    "\"\"\""
   ]
  },
  {
   "cell_type": "code",
   "execution_count": 50,
   "id": "e081118a",
   "metadata": {},
   "outputs": [
    {
     "data": {
      "text/plain": [
       "[('2014-02-13', 126),\n",
       " ('2014-03-29', 214),\n",
       " ('2014-04-30', 164),\n",
       " ('2014-06-09', 136),\n",
       " ('2014-06-13', 160),\n",
       " ('2014-07-03', 158),\n",
       " ('2014-07-15', 170),\n",
       " ('2014-10-22', 164),\n",
       " ('2014-11-17', 162),\n",
       " ('2014-12-09', 140)]"
      ]
     },
     "execution_count": 50,
     "metadata": {},
     "output_type": "execute_result"
    }
   ],
   "source": [
    "engine.execute(QUERY_5).fetchall()"
   ]
  },
  {
   "cell_type": "code",
   "execution_count": 51,
   "id": "95483d1d",
   "metadata": {},
   "outputs": [],
   "source": [
    "write_query_to_file(QUERY_5, \"10_days_windiest_trips.sql\")"
   ]
  },
  {
   "cell_type": "markdown",
   "id": "48b7274e",
   "metadata": {},
   "source": [
    "### Query 6\n",
    "During Hurricane Sandy in NYC (Oct 29-30, 2012), plus the week leading up and the week after, how many trips were taken each hour, and for each hour, how much precipitation did NYC receive and what was the sustained wind speed?"
   ]
  },
  {
   "cell_type": "code",
   "execution_count": 74,
   "id": "71191ab1",
   "metadata": {},
   "outputs": [],
   "source": [
    "QUERY_6 = \"\"\"\n",
    "    WITH all_trips AS (SELECT strftime('%m/%d/%Y %H', pickup_datetime) as trip_date_hour\n",
    "                       FROM taxi_trips\n",
    "                       WHERE pickup_datetime BETWEEN '2012-10-22' AND '2012-11-04'\n",
    "                       UNION ALL\n",
    "                       SELECT strftime('%m/%d/%Y %H', pickup_datetime) as trip_date_hour \n",
    "                       FROM uber_trips\n",
    "                       WHERE pickup_datetime BETWEEN '2012-10-22' AND '2012-11-04')\n",
    "    SELECT strftime('%m/%d/%Y %H', DATE) AS weather_date_hour,\n",
    "           COALESCE(COUNT(all_trips.trip_date_hour), 0) AS trip_count,\n",
    "           HourlyPrecipitation,\n",
    "           HourlyWindSpeed\n",
    "    FROM hourly_weather\n",
    "    LEFT JOIN all_trips\n",
    "    ON weather_date_hour = trip_date_hour\n",
    "    WHERE weather_date_hour BETWEEN '2012-10-22' AND '2012-11-04'\n",
    "    GROUP BY weather_date_hour\n",
    "\"\"\""
   ]
  },
  {
   "cell_type": "code",
   "execution_count": 75,
   "id": "96d17f48",
   "metadata": {},
   "outputs": [
    {
     "data": {
      "text/plain": [
       "[]"
      ]
     },
     "execution_count": 75,
     "metadata": {},
     "output_type": "execute_result"
    }
   ],
   "source": [
    "engine.execute(QUERY_6).fetchall()"
   ]
  },
  {
   "cell_type": "code",
   "execution_count": 76,
   "id": "ab9edb2b",
   "metadata": {},
   "outputs": [],
   "source": [
    "write_query_to_file(QUERY_6, \"hurricane_trips.sql\")"
   ]
  },
  {
   "cell_type": "markdown",
   "id": "9a74485b",
   "metadata": {},
   "source": [
    "### Query 7 (About sunrise)\n",
    "Which 10 days in 2014 that sun rose the earliest, and how many hired trips were made on those days?"
   ]
  },
  {
   "cell_type": "code",
   "execution_count": 58,
   "id": "d1a8666e",
   "metadata": {},
   "outputs": [],
   "source": [
    "QUERY_7 = \"\"\"\n",
    "    WITH all_trips AS (SELECT pickup_datetime \n",
    "                       FROM taxi_trips\n",
    "                       UNION ALL\n",
    "                       SELECT pickup_datetime \n",
    "                       FROM uber_trips)\n",
    "    SELECT date(pickup_datetime) AS date, COUNT(*) AS trip_count\n",
    "    FROM all_trips\n",
    "    GROUP BY date\n",
    "    HAVING date IN (SELECT date(DATE) \n",
    "                    FROM sun_data \n",
    "                    WHERE DATE BETWEEN '2014-01-01' AND '2014-12-31' \n",
    "                    ORDER BY Sunrise ASC\n",
    "                    LIMIT 10);\n",
    "\"\"\""
   ]
  },
  {
   "cell_type": "code",
   "execution_count": 59,
   "id": "4e7ef8a6",
   "metadata": {},
   "outputs": [
    {
     "data": {
      "text/plain": [
       "[]"
      ]
     },
     "execution_count": 59,
     "metadata": {},
     "output_type": "execute_result"
    }
   ],
   "source": [
    "engine.execute(QUERY_7).fetchall()"
   ]
  },
  {
   "cell_type": "code",
   "execution_count": 60,
   "id": "050c31bb",
   "metadata": {},
   "outputs": [],
   "source": [
    "write_query_to_file(QUERY_7, \"10_earliest_sunrise_trips.sql\")"
   ]
  },
  {
   "cell_type": "markdown",
   "id": "a13ced42",
   "metadata": {},
   "source": [
    "## Part 4: Visualizing the Data\n",
    "\n",
    "_A checklist of requirements to keep you on track. Remove this whole cell before submitting the project. The order of these tasks aren't necessarily the order in which they need to be done. It's okay to do them in an order that makes sense to you._\n",
    "\n",
    "* [ ] Create an appropriate visualization for the first query/question in part 3\n",
    "* [ ] Create a visualization that shows the average distance traveled per month (regardless of year - so group by each month). Include the 90% confidence interval around the mean in the visualization\n",
    "* [ ] Define three lat/long coordinate boxes around the three major New York airports: LGA, JFK, and EWR (you can use bboxfinder to help). Create a visualization that compares what day of the week was most popular for drop offs for each airport.\n",
    "* [ ] Create a heatmap of all hired trips over a map of the area. Consider using KeplerGL or another library that helps generate geospatial visualizations.\n",
    "* [ ] Create a scatter plot that compares tip amount versus distance.\n",
    "* [ ] Create another scatter plot that compares tip amount versus precipitation amount.\n",
    "\n",
    "_Be sure these cells are executed so that the visualizations are rendered when the notebook is submitted._"
   ]
  },
  {
   "cell_type": "markdown",
   "id": "70beeff8",
   "metadata": {},
   "source": [
    "### Visualization 1"
   ]
  },
  {
   "cell_type": "code",
   "execution_count": 61,
   "id": "10d75fc9",
   "metadata": {},
   "outputs": [
    {
     "data": {
      "image/png": "[encoded data removed]",
      "text/plain": [
       "<Figure size 432x288 with 1 Axes>"
      ]
     },
     "metadata": {
      "needs_background": "light"
     },
     "output_type": "display_data"
    }
   ],
   "source": [
    "def time_trend_taxi(dataframe: pd.core.frame.DataFrame):\n",
    "    '''Plot a line chart for the time trend of yellow taxi trips.\n",
    "    \n",
    "    Keyword arguments:\n",
    "    dataframe -- the dataframe for time trend of yellow taxi trips\n",
    "    '''\n",
    "    \n",
    "    data = dataframe.sort_values(by=\"hour\", ascending=True)\n",
    "    plt.plot(data[\"hour\"],data[\"trip_count\"],\"o-\")\n",
    "    plt.xlabel('Hour')\n",
    "    plt.ylabel('# Trips')\n",
    "    plt.title('Hour Trend of Yellow Taxi Trips')\n",
    "    plt.show()\n",
    "\n",
    "def get_time_trend_taxi_data():\n",
    "    '''Return time trend data for yellow taxi trips.'''\n",
    "    \n",
    "    query = \"\"\"\n",
    "    SELECT strftime('%H', pickup_datetime) AS hour, \n",
    "           COUNT(*) AS trip_count\n",
    "    FROM taxi_trips\n",
    "    GROUP BY hour\n",
    "    ORDER BY trip_count DESC;\n",
    "    \"\"\"\n",
    "    \n",
    "    df = pd.read_sql_query(query, engine)\n",
    "    \n",
    "    return df\n",
    "\n",
    "time_trend_taxi_dataframe = get_time_trend_taxi_data()\n",
    "time_trend_taxi(time_trend_taxi_dataframe)"
   ]
  },
  {
   "cell_type": "markdown",
   "id": "92cbefd4",
   "metadata": {},
   "source": [
    "### Visualization 2\n"
   ]
  },
  {
   "cell_type": "code",
   "execution_count": 120,
   "id": "bc8483e8",
   "metadata": {},
   "outputs": [
    {
     "name": "stdout",
     "output_type": "stream",
     "text": [
      "  year_month      distances\n",
      "0    2015-01   16952.795333\n",
      "1    2015-05  645901.520140\n",
      "  year_month      distances\n",
      "0 2015-01-01   16952.795333\n",
      "1 2015-05-01  645901.520140\n",
      "                     mean  count  sem\n",
      "year_month                           \n",
      "1            16952.795333      1  NaN\n",
      "5           645901.520140      1  NaN\n"
     ]
    },
    {
     "ename": "KeyError",
     "evalue": "'year_month'",
     "output_type": "error",
     "traceback": [
      "\u001b[0;31m---------------------------------------------------------------------------\u001b[0m",
      "\u001b[0;31mKeyError\u001b[0m                                  Traceback (most recent call last)",
      "\u001b[0;32m/Library/Frameworks/Python.framework/Versions/3.8/lib/python3.8/site-packages/pandas/core/indexes/base.py\u001b[0m in \u001b[0;36mget_loc\u001b[0;34m(self, key, method, tolerance)\u001b[0m\n\u001b[1;32m   3079\u001b[0m             \u001b[0;32mtry\u001b[0m\u001b[0;34m:\u001b[0m\u001b[0;34m\u001b[0m\u001b[0;34m\u001b[0m\u001b[0m\n\u001b[0;32m-> 3080\u001b[0;31m                 \u001b[0;32mreturn\u001b[0m \u001b[0mself\u001b[0m\u001b[0;34m.\u001b[0m\u001b[0m_engine\u001b[0m\u001b[0;34m.\u001b[0m\u001b[0mget_loc\u001b[0m\u001b[0;34m(\u001b[0m\u001b[0mcasted_key\u001b[0m\u001b[0;34m)\u001b[0m\u001b[0;34m\u001b[0m\u001b[0;34m\u001b[0m\u001b[0m\n\u001b[0m\u001b[1;32m   3081\u001b[0m             \u001b[0;32mexcept\u001b[0m \u001b[0mKeyError\u001b[0m \u001b[0;32mas\u001b[0m \u001b[0merr\u001b[0m\u001b[0;34m:\u001b[0m\u001b[0;34m\u001b[0m\u001b[0;34m\u001b[0m\u001b[0m\n",
      "\u001b[0;32mpandas/_libs/index.pyx\u001b[0m in \u001b[0;36mpandas._libs.index.IndexEngine.get_loc\u001b[0;34m()\u001b[0m\n",
      "\u001b[0;32mpandas/_libs/index.pyx\u001b[0m in \u001b[0;36mpandas._libs.index.IndexEngine.get_loc\u001b[0;34m()\u001b[0m\n",
      "\u001b[0;32mpandas/_libs/hashtable_class_helper.pxi\u001b[0m in \u001b[0;36mpandas._libs.hashtable.PyObjectHashTable.get_item\u001b[0;34m()\u001b[0m\n",
      "\u001b[0;32mpandas/_libs/hashtable_class_helper.pxi\u001b[0m in \u001b[0;36mpandas._libs.hashtable.PyObjectHashTable.get_item\u001b[0;34m()\u001b[0m\n",
      "\u001b[0;31mKeyError\u001b[0m: 'year_month'",
      "\nThe above exception was the direct cause of the following exception:\n",
      "\u001b[0;31mKeyError\u001b[0m                                  Traceback (most recent call last)",
      "\u001b[0;32m<ipython-input-120-dac6359a3aeb>\u001b[0m in \u001b[0;36m<module>\u001b[0;34m\u001b[0m\n\u001b[1;32m     29\u001b[0m     \u001b[0;32mreturn\u001b[0m \u001b[0mdf\u001b[0m\u001b[0;34m\u001b[0m\u001b[0;34m\u001b[0m\u001b[0m\n\u001b[1;32m     30\u001b[0m \u001b[0msome_dataframe\u001b[0m \u001b[0;34m=\u001b[0m \u001b[0mget_data_for_visual_2\u001b[0m\u001b[0;34m(\u001b[0m\u001b[0;34m)\u001b[0m\u001b[0;34m\u001b[0m\u001b[0;34m\u001b[0m\u001b[0m\n\u001b[0;32m---> 31\u001b[0;31m \u001b[0maverage_distance_traveled\u001b[0m\u001b[0;34m(\u001b[0m\u001b[0msome_dataframe\u001b[0m\u001b[0;34m.\u001b[0m\u001b[0msort_values\u001b[0m\u001b[0;34m(\u001b[0m\u001b[0mby\u001b[0m\u001b[0;34m=\u001b[0m\u001b[0;34m\"year_month\"\u001b[0m\u001b[0;34m,\u001b[0m \u001b[0mascending\u001b[0m\u001b[0;34m=\u001b[0m\u001b[0;32mTrue\u001b[0m\u001b[0;34m)\u001b[0m\u001b[0;34m)\u001b[0m\u001b[0;34m\u001b[0m\u001b[0;34m\u001b[0m\u001b[0m\n\u001b[0m",
      "\u001b[0;32m<ipython-input-120-dac6359a3aeb>\u001b[0m in \u001b[0;36maverage_distance_traveled\u001b[0;34m(dataframe)\u001b[0m\n\u001b[1;32m      6\u001b[0m     \u001b[0mdataframe\u001b[0m \u001b[0;34m=\u001b[0m \u001b[0mdataframe\u001b[0m\u001b[0;34m[\u001b[0m\u001b[0;34m'distances'\u001b[0m\u001b[0;34m]\u001b[0m\u001b[0;34m.\u001b[0m\u001b[0mgroupby\u001b[0m\u001b[0;34m(\u001b[0m\u001b[0mdataframe\u001b[0m\u001b[0;34m[\u001b[0m\u001b[0;34m'year_month'\u001b[0m\u001b[0;34m]\u001b[0m\u001b[0;34m.\u001b[0m\u001b[0mdt\u001b[0m\u001b[0;34m.\u001b[0m\u001b[0mmonth\u001b[0m\u001b[0;34m)\u001b[0m\u001b[0;34m.\u001b[0m\u001b[0magg\u001b[0m\u001b[0;34m(\u001b[0m\u001b[0;34m[\u001b[0m\u001b[0;34m'mean'\u001b[0m\u001b[0;34m,\u001b[0m \u001b[0;34m'count'\u001b[0m\u001b[0;34m,\u001b[0m \u001b[0;34m'sem'\u001b[0m\u001b[0;34m]\u001b[0m\u001b[0;34m)\u001b[0m\u001b[0;34m\u001b[0m\u001b[0;34m\u001b[0m\u001b[0m\n\u001b[1;32m      7\u001b[0m     \u001b[0mprint\u001b[0m\u001b[0;34m(\u001b[0m\u001b[0mdataframe\u001b[0m\u001b[0;34m)\u001b[0m\u001b[0;34m\u001b[0m\u001b[0;34m\u001b[0m\u001b[0m\n\u001b[0;32m----> 8\u001b[0;31m     \u001b[0mdataframe\u001b[0m\u001b[0;34m.\u001b[0m\u001b[0mplot\u001b[0m\u001b[0;34m(\u001b[0m\u001b[0mx\u001b[0m\u001b[0;34m=\u001b[0m\u001b[0;34m\"year_month\"\u001b[0m\u001b[0;34m,\u001b[0m \u001b[0my\u001b[0m\u001b[0;34m=\u001b[0m\u001b[0;34m\"mean\"\u001b[0m\u001b[0;34m,\u001b[0m\u001b[0mkind\u001b[0m\u001b[0;34m=\u001b[0m\u001b[0;34m\"line\"\u001b[0m\u001b[0;34m,\u001b[0m\u001b[0mfigsize\u001b[0m\u001b[0;34m=\u001b[0m\u001b[0;34m(\u001b[0m\u001b[0;36m20\u001b[0m\u001b[0;34m,\u001b[0m \u001b[0;36m10\u001b[0m\u001b[0;34m)\u001b[0m\u001b[0;34m)\u001b[0m\u001b[0;34m\u001b[0m\u001b[0;34m\u001b[0m\u001b[0m\n\u001b[0m\u001b[1;32m      9\u001b[0m \u001b[0;34m\u001b[0m\u001b[0m\n\u001b[1;32m     10\u001b[0m     \u001b[0mplt\u001b[0m\u001b[0;34m.\u001b[0m\u001b[0mxlabel\u001b[0m\u001b[0;34m(\u001b[0m\u001b[0;34m'Month'\u001b[0m\u001b[0;34m)\u001b[0m\u001b[0;34m\u001b[0m\u001b[0;34m\u001b[0m\u001b[0m\n",
      "\u001b[0;32m/Library/Frameworks/Python.framework/Versions/3.8/lib/python3.8/site-packages/pandas/plotting/_core.py\u001b[0m in \u001b[0;36m__call__\u001b[0;34m(self, *args, **kwargs)\u001b[0m\n\u001b[1;32m    918\u001b[0m                 \u001b[0;32mif\u001b[0m \u001b[0mis_integer\u001b[0m\u001b[0;34m(\u001b[0m\u001b[0mx\u001b[0m\u001b[0;34m)\u001b[0m \u001b[0;32mand\u001b[0m \u001b[0;32mnot\u001b[0m \u001b[0mdata\u001b[0m\u001b[0;34m.\u001b[0m\u001b[0mcolumns\u001b[0m\u001b[0;34m.\u001b[0m\u001b[0mholds_integer\u001b[0m\u001b[0;34m(\u001b[0m\u001b[0;34m)\u001b[0m\u001b[0;34m:\u001b[0m\u001b[0;34m\u001b[0m\u001b[0;34m\u001b[0m\u001b[0m\n\u001b[1;32m    919\u001b[0m                     \u001b[0mx\u001b[0m \u001b[0;34m=\u001b[0m \u001b[0mdata_cols\u001b[0m\u001b[0;34m[\u001b[0m\u001b[0mx\u001b[0m\u001b[0;34m]\u001b[0m\u001b[0;34m\u001b[0m\u001b[0;34m\u001b[0m\u001b[0m\n\u001b[0;32m--> 920\u001b[0;31m                 \u001b[0;32melif\u001b[0m \u001b[0;32mnot\u001b[0m \u001b[0misinstance\u001b[0m\u001b[0;34m(\u001b[0m\u001b[0mdata\u001b[0m\u001b[0;34m[\u001b[0m\u001b[0mx\u001b[0m\u001b[0;34m]\u001b[0m\u001b[0;34m,\u001b[0m \u001b[0mABCSeries\u001b[0m\u001b[0;34m)\u001b[0m\u001b[0;34m:\u001b[0m\u001b[0;34m\u001b[0m\u001b[0;34m\u001b[0m\u001b[0m\n\u001b[0m\u001b[1;32m    921\u001b[0m                     \u001b[0;32mraise\u001b[0m \u001b[0mValueError\u001b[0m\u001b[0;34m(\u001b[0m\u001b[0;34m\"x must be a label or position\"\u001b[0m\u001b[0;34m)\u001b[0m\u001b[0;34m\u001b[0m\u001b[0;34m\u001b[0m\u001b[0m\n\u001b[1;32m    922\u001b[0m                 \u001b[0mdata\u001b[0m \u001b[0;34m=\u001b[0m \u001b[0mdata\u001b[0m\u001b[0;34m.\u001b[0m\u001b[0mset_index\u001b[0m\u001b[0;34m(\u001b[0m\u001b[0mx\u001b[0m\u001b[0;34m)\u001b[0m\u001b[0;34m\u001b[0m\u001b[0;34m\u001b[0m\u001b[0m\n",
      "\u001b[0;32m/Library/Frameworks/Python.framework/Versions/3.8/lib/python3.8/site-packages/pandas/core/frame.py\u001b[0m in \u001b[0;36m__getitem__\u001b[0;34m(self, key)\u001b[0m\n\u001b[1;32m   3022\u001b[0m             \u001b[0;32mif\u001b[0m \u001b[0mself\u001b[0m\u001b[0;34m.\u001b[0m\u001b[0mcolumns\u001b[0m\u001b[0;34m.\u001b[0m\u001b[0mnlevels\u001b[0m \u001b[0;34m>\u001b[0m \u001b[0;36m1\u001b[0m\u001b[0;34m:\u001b[0m\u001b[0;34m\u001b[0m\u001b[0;34m\u001b[0m\u001b[0m\n\u001b[1;32m   3023\u001b[0m                 \u001b[0;32mreturn\u001b[0m \u001b[0mself\u001b[0m\u001b[0;34m.\u001b[0m\u001b[0m_getitem_multilevel\u001b[0m\u001b[0;34m(\u001b[0m\u001b[0mkey\u001b[0m\u001b[0;34m)\u001b[0m\u001b[0;34m\u001b[0m\u001b[0;34m\u001b[0m\u001b[0m\n\u001b[0;32m-> 3024\u001b[0;31m             \u001b[0mindexer\u001b[0m \u001b[0;34m=\u001b[0m \u001b[0mself\u001b[0m\u001b[0;34m.\u001b[0m\u001b[0mcolumns\u001b[0m\u001b[0;34m.\u001b[0m\u001b[0mget_loc\u001b[0m\u001b[0;34m(\u001b[0m\u001b[0mkey\u001b[0m\u001b[0;34m)\u001b[0m\u001b[0;34m\u001b[0m\u001b[0;34m\u001b[0m\u001b[0m\n\u001b[0m\u001b[1;32m   3025\u001b[0m             \u001b[0;32mif\u001b[0m \u001b[0mis_integer\u001b[0m\u001b[0;34m(\u001b[0m\u001b[0mindexer\u001b[0m\u001b[0;34m)\u001b[0m\u001b[0;34m:\u001b[0m\u001b[0;34m\u001b[0m\u001b[0;34m\u001b[0m\u001b[0m\n\u001b[1;32m   3026\u001b[0m                 \u001b[0mindexer\u001b[0m \u001b[0;34m=\u001b[0m \u001b[0;34m[\u001b[0m\u001b[0mindexer\u001b[0m\u001b[0;34m]\u001b[0m\u001b[0;34m\u001b[0m\u001b[0;34m\u001b[0m\u001b[0m\n",
      "\u001b[0;32m/Library/Frameworks/Python.framework/Versions/3.8/lib/python3.8/site-packages/pandas/core/indexes/base.py\u001b[0m in \u001b[0;36mget_loc\u001b[0;34m(self, key, method, tolerance)\u001b[0m\n\u001b[1;32m   3080\u001b[0m                 \u001b[0;32mreturn\u001b[0m \u001b[0mself\u001b[0m\u001b[0;34m.\u001b[0m\u001b[0m_engine\u001b[0m\u001b[0;34m.\u001b[0m\u001b[0mget_loc\u001b[0m\u001b[0;34m(\u001b[0m\u001b[0mcasted_key\u001b[0m\u001b[0;34m)\u001b[0m\u001b[0;34m\u001b[0m\u001b[0;34m\u001b[0m\u001b[0m\n\u001b[1;32m   3081\u001b[0m             \u001b[0;32mexcept\u001b[0m \u001b[0mKeyError\u001b[0m \u001b[0;32mas\u001b[0m \u001b[0merr\u001b[0m\u001b[0;34m:\u001b[0m\u001b[0;34m\u001b[0m\u001b[0;34m\u001b[0m\u001b[0m\n\u001b[0;32m-> 3082\u001b[0;31m                 \u001b[0;32mraise\u001b[0m \u001b[0mKeyError\u001b[0m\u001b[0;34m(\u001b[0m\u001b[0mkey\u001b[0m\u001b[0;34m)\u001b[0m \u001b[0;32mfrom\u001b[0m \u001b[0merr\u001b[0m\u001b[0;34m\u001b[0m\u001b[0;34m\u001b[0m\u001b[0m\n\u001b[0m\u001b[1;32m   3083\u001b[0m \u001b[0;34m\u001b[0m\u001b[0m\n\u001b[1;32m   3084\u001b[0m         \u001b[0;32mif\u001b[0m \u001b[0mtolerance\u001b[0m \u001b[0;32mis\u001b[0m \u001b[0;32mnot\u001b[0m \u001b[0;32mNone\u001b[0m\u001b[0;34m:\u001b[0m\u001b[0;34m\u001b[0m\u001b[0;34m\u001b[0m\u001b[0m\n",
      "\u001b[0;31mKeyError\u001b[0m: 'year_month'"
     ]
    }
   ],
   "source": [
    "def average_distance_traveled(dataframe):\n",
    "    # Calculate the lower bound and upper bound \n",
    "    dataframe['year_month'] = pd.to_datetime(dataframe['year_month'], format='%Y-%m')\n",
    "    dataframe = dataframe['distances'].groupby(dataframe['year_month'].dt.month).agg(['mean', 'count', 'var'])\n",
    "    dataframe['DegreeOfFreedom'] = dataframe['count'] - 1\n",
    "    Low_bound, High_bound = stats.t.interval(0.90, dataframe['DegreeOfFreedom'], loc=dataframe['mean'], scale=dataframe['var'])\n",
    "    # draw the plot\n",
    "    plt.plot(dataframe.index, dataframe['mean'])\n",
    "    plt.fill_between(dataframe.index, Low_bound, High_bound, alpha=0.3)\n",
    "    plt.xlabel('Month')\n",
    "    plt.ylabel('Average distance')\n",
    "    plt.title('Average Distance Traveled Per Month')\n",
    "    plt.show()\n",
    "def get_data_for_visual_2():\n",
    "\n",
    "    # select the data  \n",
    "    query_sum_distance = '''\n",
    "    SELECT year_month, distances\n",
    "    FROM\n",
    "    (\n",
    "    SELECT strftime('%Y-%m', pickup_datetime) AS year_month, SUM(distance) AS distances FROM taxi_trips\n",
    "    UNION ALL\n",
    "    SELECT strftime('%Y-%m', pickup_datetime) AS year_month, SUM(distance) AS distance FROM uber_trips\n",
    "    )\n",
    "    GROUP BY year_month\n",
    "    '''\n",
    "    df = pd.read_sql_query(query_sum_distance, engine)\n",
    "    return df\n",
    "some_dataframe = get_data_for_visual_2()\n",
    "average_distance_traveled(some_dataframe.sort_values(by=\"year_month\", ascending=True))"
   ]
  },
  {
   "cell_type": "markdown",
   "id": "d3375720",
   "metadata": {},
   "source": [
    "### Visualization 3"
   ]
  },
  {
   "cell_type": "code",
   "execution_count": 63,
   "id": "e85a66ff",
   "metadata": {},
   "outputs": [
    {
     "data": {
      "image/png": "[encoded data removed]",
      "text/plain": [
       "<Figure size 432x288 with 1 Axes>"
      ]
     },
     "metadata": {
      "needs_background": "light"
     },
     "output_type": "display_data"
    }
   ],
   "source": [
    "def dropoff_num_for_each_day(dataframes):\n",
    "    '''\n",
    "    Plot a line chart to show the number of dropoffs for each day.\n",
    "    '''\n",
    "    dataframes[0]['JFK'] = dataframes[1]['JFK']\n",
    "    dataframes[0]['EWR'] = dataframes[2]['EWR']\n",
    "    df = dataframes[0]\n",
    "    df.loc[df[\"Day\"] == '0', \"Day\"] = \"Sun\"\n",
    "    df.loc[df[\"Day\"] == '1', \"Day\"] = \"Mon\"\n",
    "    df.loc[df[\"Day\"] == '2', \"Day\"] = \"Tue\"\n",
    "    df.loc[df[\"Day\"] == '3', \"Day\"] = \"Wen\"\n",
    "    df.loc[df[\"Day\"] == '4', \"Day\"] = \"Thu\"\n",
    "    df.loc[df[\"Day\"] == '5', \"Day\"] = \"Fri\"\n",
    "    df.loc[df[\"Day\"] == '6', \"Day\"] = \"Sat\"\n",
    "    df.plot(x=\"Day\", y=[\"LGA\",'JFK','EWR'], kind=\"bar\",rot = 0, title=\"Number of Dropoffs for Each Day for each Airport\", xlabel=\"Week of Day\", ylabel=\"Number of Dropoffs\")\n",
    "\n",
    "def get_data_for_visual_3():\n",
    "    '''\n",
    "    Returns the number of dropoffs for each day of the week for each airport.\n",
    "    '''\n",
    "    LGA_Range = [-73.892126,40.769973,-73.86021,40.781788,'LGA']\n",
    "    JFK_Range = [-73.826749,40.623256,-73.751329,40.661102,'JFK']\n",
    "    EWR_Range = [-74.189097,40.674312,-74.150902,40.70881,'EWR']\n",
    "    df = []\n",
    "    for i in [LGA_Range, JFK_Range, EWR_Range]:\n",
    "        query = \\\n",
    "        f'''WITH hired_trips AS (SELECT pickup_datetime,dropoff_longitude,dropoff_latitude\n",
    "        FROM taxi_trips UNION ALL\n",
    "        SELECT pickup_datetime,dropoff_longitude,dropoff_latitude FROM uber_trips)\n",
    "        SELECT strftime('%w', pickup_datetime) AS Day ,COUNT(*) AS {i[4]}\n",
    "        FROM hired_trips\n",
    "        WHERE dropoff_longitude >= {i[0]} AND dropoff_longitude <= {i[2]} AND dropoff_latitude >= {i[1]} AND dropoff_latitude <= {i[3]} \n",
    "        GROUP BY Day\n",
    "        '''\n",
    "        df.append(pd.read_sql_query(query, engine))\n",
    "    # print(df)\n",
    "    return df\n",
    "\n",
    "some_dataframe = get_data_for_visual_3()\n",
    "dropoff_num_for_each_day(some_dataframe)"
   ]
  },
  {
   "cell_type": "markdown",
   "id": "b24474ed",
   "metadata": {},
   "source": [
    "### Visualization 4\n"
   ]
  },
  {
   "cell_type": "code",
   "execution_count": 64,
   "id": "f9c07d20",
   "metadata": {},
   "outputs": [
    {
     "name": "stderr",
     "output_type": "stream",
     "text": [
      "<ipython-input-10-104f6b2806cd>:26: UserWarning: Geometry is in a geographic CRS. Results from 'centroid' are likely incorrect. Use 'GeoSeries.to_crs()' to re-project geometries to a projected CRS before this operation.\n",
      "\n",
      "  taxi_zone_df['longitude'] = taxi_zone_df.centroid.x\n",
      "<ipython-input-10-104f6b2806cd>:27: UserWarning: Geometry is in a geographic CRS. Results from 'centroid' are likely incorrect. Use 'GeoSeries.to_crs()' to re-project geometries to a projected CRS before this operation.\n",
      "\n",
      "  taxi_zone_df['latitude'] = taxi_zone_df.centroid.y\n"
     ]
    },
    {
     "data": {
      "image/png": "[encoded data removed]",
      "text/plain": [
       "<Figure size 432x288 with 2 Axes>"
      ]
     },
     "metadata": {
      "needs_background": "light"
     },
     "output_type": "display_data"
    }
   ],
   "source": [
    "\n",
    "def heatmap_all_hired_trips(dataframe):\n",
    "    dataframe.plot(column='count', legend=True, markersize = 15)\n",
    "    plt.axis('off')\n",
    "    plt.show()\n",
    "\n",
    "def get_data_for_visual_4():\n",
    "    \"\"\"\n",
    "    return a dataframe that can be further used for plot\n",
    "    \"\"\"\n",
    "    query = '''WITH hired_trips AS (SELECT pickup_latitude AS latitude, pickup_longitude AS longitude\n",
    "            FROM taxi_trips UNION ALL\n",
    "            SELECT pickup_latitude AS latitude, pickup_longitude AS longitude FROM uber_trips)\n",
    "            SELECT latitude, longitude\n",
    "            FROM hired_trips\n",
    "            '''\n",
    "    df = pd.read_sql_query(query, engine)\n",
    "    \n",
    "    # reindex the GEO\n",
    "    geo_loc = get_taxi_zone_df()\n",
    "    geo_loc = geo_loc.reset_index()\n",
    "\n",
    "    # join the two dataframes\n",
    "    df = pd.merge(df, geo_loc, how=\"outer\",on=[\"latitude\", \"longitude\"])\n",
    "    df.dropna(subset=[\"LocationID\"], inplace=True)\n",
    "\n",
    "    geo_loc['count'] = df.groupby(\"LocationID\").count()['longitude']\n",
    "    return geo_loc\n",
    "heatmap_all_hired_trips(get_data_for_visual_4())"
   ]
  },
  {
   "cell_type": "markdown",
   "id": "6d9eef42",
   "metadata": {},
   "source": [
    "### Visualization 5\n",
    "\n",
    "_**TODO:** Write some prose that tells the reader what you're about to do here._\n",
    "\n",
    "_Repeat for each visualization._\n",
    "\n",
    "_The example below makes use of the `matplotlib` library. There are other libraries, including `pandas` built-in plotting library, kepler for geospatial data representation, `seaborn`, and others._"
   ]
  },
  {
   "cell_type": "code",
   "execution_count": 94,
   "id": "0de8394c",
   "metadata": {},
   "outputs": [],
   "source": [
    "\n",
    "def tip_amount_vs_distance_scatter_plot(dataframe):\n",
    "    figure, axes = plt.subplots(figsize=(20, 10))\n",
    "\n",
    "    axes.scatter(\"distance\",\"tip_amount\", data = dataframe)\n",
    "    axes.set_title(\"Tip Amount & Travel Distance\")\n",
    "    axes.set_xlabel(\"Distance\")\n",
    "    axes.set_ylabel(\"Tip Amount\")\n",
    "    \n",
    "    plt.show()"
   ]
  },
  {
   "cell_type": "code",
   "execution_count": 95,
   "id": "847ced2f",
   "metadata": {},
   "outputs": [],
   "source": [
    "def get_data_for_visual_5():\n",
    "    \"\"\"\n",
    "    return a dataframe that can be further used for p\n",
    "    \"\"\"\n",
    "    myquery = \\\n",
    "    '''SELECT tip_amount, distance\n",
    "    FROM taxi_trips\n",
    "    '''\n",
    "    df = pd.read_sql_query(myquery, engine)\n",
    "    return df"
   ]
  },
  {
   "cell_type": "code",
   "execution_count": 96,
   "id": "3c63e845",
   "metadata": {},
   "outputs": [
    {
     "name": "stdout",
     "output_type": "stream",
     "text": [
      "      tip_amount   distance\n",
      "0           2.04   1.113423\n",
      "1           2.00   2.500581\n",
      "2           1.00   1.804299\n",
      "3           2.32   2.841790\n",
      "4           0.00  13.858877\n",
      "...          ...        ...\n",
      "4995        0.00   2.560810\n",
      "4996        0.00   1.875250\n",
      "4997        0.00   4.875158\n",
      "4998        1.46   1.818875\n",
      "4999        1.46   1.170465\n",
      "\n",
      "[5000 rows x 2 columns]\n"
     ]
    },
    {
     "data": {
      "image/png": "[encoded data removed]",
      "text/plain": [
       "<Figure size 1440x720 with 1 Axes>"
      ]
     },
     "metadata": {
      "needs_background": "light"
     },
     "output_type": "display_data"
    }
   ],
   "source": [
    "some_dataframe = get_data_for_visual_5()\n",
    "print(some_dataframe)\n",
    "tip_amount_vs_distance_scatter_plot(some_dataframe)"
   ]
  },
  {
   "cell_type": "code",
   "execution_count": 97,
   "id": "fb3741eb",
   "metadata": {},
   "outputs": [
    {
     "data": {
      "image/png": "[encoded data removed]",
      "text/plain": [
       "<Figure size 432x288 with 1 Axes>"
      ]
     },
     "metadata": {
      "needs_background": "light"
     },
     "output_type": "display_data"
    }
   ],
   "source": [
    "def time_trend_taxi(dataframe: pd.core.frame.DataFrame):\n",
    "    '''Plot a line chart for the time trend of yellow taxi trips.\n",
    "    \n",
    "    Keyword arguments:\n",
    "    dataframe -- the dataframe for time trend of yellow taxi trips\n",
    "    '''\n",
    "    \n",
    "    data = dataframe.sort_values(by=\"hour\", ascending=True)\n",
    "    plt.plot(data[\"hour\"],data[\"trip_count\"],\"o-\")\n",
    "    plt.xlabel('Hour')\n",
    "    plt.ylabel('# Trips')\n",
    "    plt.title('Hour Trend of Yellow Taxi Trips')\n",
    "    plt.show()\n",
    "def get_time_trend_taxi_data():\n",
    "    '''Return time trend data for yellow taxi trips.'''\n",
    "    \n",
    "    query = \"\"\"\n",
    "    SELECT strftime('%H', pickup_datetime) AS hour, \n",
    "           COUNT(*) AS trip_count\n",
    "    FROM taxi_trips\n",
    "    GROUP BY hour\n",
    "    ORDER BY trip_count DESC;\n",
    "    \"\"\"\n",
    "    \n",
    "    df = pd.read_sql_query(query, engine)\n",
    "    \n",
    "    return df\n",
    "\n",
    "time_trend_taxi_dataframe = get_time_trend_taxi_data()\n",
    "time_trend_taxi(time_trend_taxi_dataframe)"
   ]
  },
  {
   "cell_type": "markdown",
   "id": "8320a8cd",
   "metadata": {},
   "source": [
    "### Visualization 6\n",
    "\n",
    "_**TODO:** Write some prose that tells the reader what you're about to do here._\n",
    "\n",
    "_Repeat for each visualization._\n",
    "\n",
    "_The example below makes use of the `matplotlib` library. There are other libraries, including `pandas` built-in plotting library, kepler for geospatial data representation, `seaborn`, and others._aa\n"
   ]
  },
  {
   "cell_type": "code",
   "execution_count": 102,
   "id": "6044c473",
   "metadata": {},
   "outputs": [
    {
     "name": "stdout",
     "output_type": "stream",
     "text": [
      "             DATE    tip  precipitation\n",
      "0   2015-01-01 00   2.10       6.869565\n",
      "1   2015-01-02 00   0.00       7.047619\n",
      "2   2015-01-03 00   7.95       6.694915\n",
      "3   2015-01-04 00   3.00       5.060000\n",
      "4   2015-01-06 00   1.00       4.025641\n",
      "5   2015-01-07 00   5.75      12.681818\n",
      "6   2015-01-08 00   6.30       8.727273\n",
      "7   2015-01-09 00  13.87       8.548387\n",
      "8   2015-01-10 00   4.65       7.956522\n",
      "9   2015-01-11 00   5.50       6.043478\n",
      "10  2015-01-12 00   1.30       3.423077\n",
      "11  2015-01-13 00   9.60       8.357143\n",
      "12  2015-01-14 00   4.75       6.447368\n",
      "13  2015-01-15 00   3.00       4.772727\n",
      "14  2015-01-16 00   0.00       9.681818\n",
      "15  2015-01-17 00  30.99       6.043478\n",
      "16  2015-01-18 00   7.87       3.118644\n",
      "17  2015-01-19 00  11.95       7.608696\n",
      "18  2015-01-21 00   7.00       4.375000\n",
      "19  2015-01-22 00   1.50       3.864865\n",
      "20  2015-01-23 00  20.08       5.772727\n",
      "21  2015-01-24 00   2.70       5.711538\n",
      "22  2015-01-25 00   4.91       6.291667\n",
      "23  2015-01-26 00   1.05      13.735849\n",
      "24  2015-01-28 00   1.00       7.666667\n",
      "25  2015-01-29 00   1.66       3.739130\n",
      "26  2015-01-30 00   9.06       9.128205\n",
      "27  2015-01-31 00   5.24      12.181818\n",
      "28  2015-02-01 00   3.50       3.933333\n",
      "29  2015-02-02 00   1.85       9.516667\n",
      "30  2015-02-03 00   5.26       7.227273\n",
      "31  2015-02-04 00   3.52       4.250000\n",
      "32  2015-02-05 00   6.26       8.285714\n",
      "33  2015-02-06 00   1.55       7.142857\n",
      "34  2015-02-07 00   9.47       4.200000\n",
      "35  2015-02-08 00  10.55       8.787879\n",
      "36  2015-02-09 00   4.85      10.857143\n",
      "37  2015-02-10 00   8.56      10.172414\n",
      "38  2015-02-11 00   3.55       6.478261\n",
      "39  2015-02-12 00   1.70       6.903226\n",
      "40  2015-02-13 00  12.02       9.083333\n",
      "41  2015-02-14 00   9.21       5.813953\n",
      "42  2015-02-15 00   2.36      13.586207\n",
      "43  2015-02-16 00   3.80       6.913043\n",
      "44  2015-02-17 00   6.96       5.558140\n",
      "45  2015-02-19 00   4.00      11.363636\n",
      "46  2015-02-20 00   3.85      10.291667\n",
      "47  2015-02-21 00   1.90       5.054054\n",
      "48  2015-02-22 00   3.15       2.181818\n",
      "49  2015-02-23 00   6.86      11.000000\n",
      "50  2015-02-24 00   1.26       5.875000\n",
      "51  2015-02-25 00   6.51       6.304348\n",
      "52  2015-02-26 00   6.26       7.222222\n",
      "53  2015-02-27 00   8.32       6.238095\n",
      "54  2015-02-28 00   6.86       3.681818\n"
     ]
    },
    {
     "data": {
      "image/png": "[encoded data removed]",
      "text/plain": [
       "<Figure size 1440x720 with 1 Axes>"
      ]
     },
     "metadata": {
      "needs_background": "light"
     },
     "output_type": "display_data"
    }
   ],
   "source": [
    "def tip_amount_vs_precipitation_scatter_plot(dataframe):\n",
    "    figure, axes = plt.subplots(figsize=(20, 10))\n",
    "\n",
    "    axes.scatter(\"precipitation\",\"tip\", data = dataframe)\n",
    "    axes.set_title(\"Tip Amount & Precipitation\")\n",
    "    axes.set_xlabel(\"Precipitation\")\n",
    "    axes.set_ylabel(\"Tip Amount\")\n",
    "    \n",
    "    plt.show()\n",
    "\n",
    "def get_data_for_visual_6():\n",
    "    \n",
    "    # select the data\n",
    "    query_precipitation = '''\n",
    "    Select tips.DATE, tips.tip_amount as tip, Daily.precipitation as precipitation\n",
    "        From(Select strftime('%Y-%m-%d %H', pickup_datetime) AS DATE, SUM(taxi_trips.tip_amount) AS tip_amount\n",
    "             From taxi_trips\n",
    "             GROUP BY DATE) as tips,\n",
    "            (Select strftime('%Y-%m-%d %H', DATE) AS DATE, DailyPrecipitation AS precipitation\n",
    "             FROM daily_weather) as Daily\n",
    "        Where tips.DATE = Daily.DATE\n",
    "    '''\n",
    "    df = pd.read_sql_query(query_precipitation, engine)\n",
    "    return df\n",
    "\n",
    "some_dataframe = get_data_for_visual_6()\n",
    "print(some_dataframe)\n",
    "tip_amount_vs_precipitation_scatter_plot(some_dataframe)\n"
   ]
  }
 ],
 "metadata": {
  "kernelspec": {
   "display_name": "Python 3.8.2 64-bit",
   "language": "python",
   "name": "python3"
  },
  "language_info": {
   "codemirror_mode": {
    "name": "ipython",
    "version": 3
   },
   "file_extension": ".py",
   "mimetype": "text/x-python",
   "name": "python",
   "nbconvert_exporter": "python",
   "pygments_lexer": "ipython3",
   "version": "3.8.2"
  },
  "vscode": {
   "interpreter": {
    "hash": "aee8b7b246df8f9039afb4144a1f6fd8d2ca17a180786b69acc140d282b71a49"
   }
  }
 },
 "nbformat": 4,
 "nbformat_minor": 5
}
